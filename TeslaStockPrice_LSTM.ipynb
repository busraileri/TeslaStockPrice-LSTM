{
 "cells": [
  {
   "cell_type": "markdown",
   "id": "74c0e225",
   "metadata": {
    "id": "9-Eof1ZNznbV",
    "papermill": {
     "duration": 0.018983,
     "end_time": "2024-11-12T22:58:07.993085",
     "exception": false,
     "start_time": "2024-11-12T22:58:07.974102",
     "status": "completed"
    },
    "tags": []
   },
   "source": [
    "# LSTM for Stock Price Prediction"
   ]
  },
  {
   "cell_type": "markdown",
   "id": "f3d0a8bd",
   "metadata": {
    "id": "xRLctuIf010m",
    "papermill": {
     "duration": 0.018764,
     "end_time": "2024-11-12T22:58:08.030322",
     "exception": false,
     "start_time": "2024-11-12T22:58:08.011558",
     "status": "completed"
    },
    "tags": []
   },
   "source": [
    "* **Date:** represents the date of the trading day.\n",
    "\n",
    "* **Open:** represents the opening price of the stock for the trading day.\n",
    "\n",
    "* **High:** represents the highest price of the stock for the trading day.\n",
    "\n",
    "* **Low:** represents the lowest price of the stock for the trading day.\n",
    "\n",
    "* **Close:** represents the closing price of the stock for the trading day.\n",
    "\n",
    "* **Adj close:** represents the adjusted closing price of the stock for the trading day.\n",
    "\n",
    "* **Volume:** represents the trading volume for the trading day.\n",
    "\n",
    "\n"
   ]
  },
  {
   "cell_type": "markdown",
   "id": "87e4bd00",
   "metadata": {
    "id": "W6HsG_NwGWLt",
    "papermill": {
     "duration": 0.0177,
     "end_time": "2024-11-12T22:58:08.066125",
     "exception": false,
     "start_time": "2024-11-12T22:58:08.048425",
     "status": "completed"
    },
    "tags": []
   },
   "source": [
    "# Data Understanding"
   ]
  },
  {
   "cell_type": "code",
   "execution_count": 1,
   "id": "7476d392",
   "metadata": {
    "execution": {
     "iopub.execute_input": "2024-11-12T22:58:08.104796Z",
     "iopub.status.busy": "2024-11-12T22:58:08.104298Z",
     "iopub.status.idle": "2024-11-12T22:58:24.123720Z",
     "shell.execute_reply": "2024-11-12T22:58:24.122467Z"
    },
    "id": "e2-0yUvEGZvw",
    "papermill": {
     "duration": 16.042003,
     "end_time": "2024-11-12T22:58:24.126658",
     "exception": false,
     "start_time": "2024-11-12T22:58:08.084655",
     "status": "completed"
    },
    "tags": []
   },
   "outputs": [],
   "source": [
    "# to read and process data\n",
    "\n",
    "import numpy as np\n",
    "\n",
    "import pandas as pd\n",
    "\n",
    "import tensorflow as tf\n",
    "\n",
    "import matplotlib.pyplot as plt\n",
    "\n",
    "\n",
    "\n",
    "# to evaluate the model and scale the data\n",
    "\n",
    "from sklearn.preprocessing import MinMaxScaler\n",
    "\n",
    "from sklearn.metrics import mean_squared_error\n",
    "\n",
    "\n",
    "\n",
    "\n",
    "\n",
    "# modeling\n",
    "\n",
    "from tensorflow.keras.models import Sequential\n",
    "\n",
    "from tensorflow.keras.layers import LSTM, Dense, Dropout\n",
    "\n",
    "from tensorflow.keras.callbacks import ModelCheckpoint, EarlyStopping\n",
    "\n",
    "\n",
    "\n",
    "# warnings\n",
    "\n",
    "import warnings\n",
    "\n",
    "warnings.filterwarnings('ignore')\n",
    "\n",
    "\n",
    "\n",
    "# Tensorflow warning blocking\n",
    "\n",
    "import os\n",
    "\n",
    "os.environ['TF_CPP_MIN_LOG_LEVEL'] = '3'\n",
    "\n",
    "tf.compat.v1.logging.set_verbosity(tf.compat.v1.logging.ERROR)"
   ]
  },
  {
   "cell_type": "code",
   "execution_count": 2,
   "id": "b4e60e62",
   "metadata": {
    "execution": {
     "iopub.execute_input": "2024-11-12T22:58:24.165228Z",
     "iopub.status.busy": "2024-11-12T22:58:24.164016Z",
     "iopub.status.idle": "2024-11-12T22:58:24.190533Z",
     "shell.execute_reply": "2024-11-12T22:58:24.189360Z"
    },
    "id": "gfzCtARgHAcl",
    "papermill": {
     "duration": 0.048564,
     "end_time": "2024-11-12T22:58:24.193349",
     "exception": false,
     "start_time": "2024-11-12T22:58:24.144785",
     "status": "completed"
    },
    "tags": []
   },
   "outputs": [],
   "source": [
    "df = pd.read_csv('/kaggle/input/tesla-stock-data-from-2010-to-2020/TSLA.csv')"
   ]
  },
  {
   "cell_type": "code",
   "execution_count": 3,
   "id": "b824d3de",
   "metadata": {
    "execution": {
     "iopub.execute_input": "2024-11-12T22:58:24.231361Z",
     "iopub.status.busy": "2024-11-12T22:58:24.230915Z",
     "iopub.status.idle": "2024-11-12T22:58:24.257086Z",
     "shell.execute_reply": "2024-11-12T22:58:24.255895Z"
    },
    "id": "ZVY9hdLRHAWT",
    "outputId": "387d7958-72f4-4f8b-a015-9a33f4cbfe97",
    "papermill": {
     "duration": 0.048312,
     "end_time": "2024-11-12T22:58:24.259836",
     "exception": false,
     "start_time": "2024-11-12T22:58:24.211524",
     "status": "completed"
    },
    "tags": []
   },
   "outputs": [
    {
     "data": {
      "text/html": [
       "<div>\n",
       "<style scoped>\n",
       "    .dataframe tbody tr th:only-of-type {\n",
       "        vertical-align: middle;\n",
       "    }\n",
       "\n",
       "    .dataframe tbody tr th {\n",
       "        vertical-align: top;\n",
       "    }\n",
       "\n",
       "    .dataframe thead th {\n",
       "        text-align: right;\n",
       "    }\n",
       "</style>\n",
       "<table border=\"1\" class=\"dataframe\">\n",
       "  <thead>\n",
       "    <tr style=\"text-align: right;\">\n",
       "      <th></th>\n",
       "      <th>Date</th>\n",
       "      <th>Open</th>\n",
       "      <th>High</th>\n",
       "      <th>Low</th>\n",
       "      <th>Close</th>\n",
       "      <th>Adj Close</th>\n",
       "      <th>Volume</th>\n",
       "    </tr>\n",
       "  </thead>\n",
       "  <tbody>\n",
       "    <tr>\n",
       "      <th>0</th>\n",
       "      <td>2010-06-29</td>\n",
       "      <td>19.000000</td>\n",
       "      <td>25.00</td>\n",
       "      <td>17.540001</td>\n",
       "      <td>23.889999</td>\n",
       "      <td>23.889999</td>\n",
       "      <td>18766300</td>\n",
       "    </tr>\n",
       "    <tr>\n",
       "      <th>1</th>\n",
       "      <td>2010-06-30</td>\n",
       "      <td>25.790001</td>\n",
       "      <td>30.42</td>\n",
       "      <td>23.299999</td>\n",
       "      <td>23.830000</td>\n",
       "      <td>23.830000</td>\n",
       "      <td>17187100</td>\n",
       "    </tr>\n",
       "    <tr>\n",
       "      <th>2</th>\n",
       "      <td>2010-07-01</td>\n",
       "      <td>25.000000</td>\n",
       "      <td>25.92</td>\n",
       "      <td>20.270000</td>\n",
       "      <td>21.959999</td>\n",
       "      <td>21.959999</td>\n",
       "      <td>8218800</td>\n",
       "    </tr>\n",
       "    <tr>\n",
       "      <th>3</th>\n",
       "      <td>2010-07-02</td>\n",
       "      <td>23.000000</td>\n",
       "      <td>23.10</td>\n",
       "      <td>18.709999</td>\n",
       "      <td>19.200001</td>\n",
       "      <td>19.200001</td>\n",
       "      <td>5139800</td>\n",
       "    </tr>\n",
       "    <tr>\n",
       "      <th>4</th>\n",
       "      <td>2010-07-06</td>\n",
       "      <td>20.000000</td>\n",
       "      <td>20.00</td>\n",
       "      <td>15.830000</td>\n",
       "      <td>16.110001</td>\n",
       "      <td>16.110001</td>\n",
       "      <td>6866900</td>\n",
       "    </tr>\n",
       "  </tbody>\n",
       "</table>\n",
       "</div>"
      ],
      "text/plain": [
       "         Date       Open   High        Low      Close  Adj Close    Volume\n",
       "0  2010-06-29  19.000000  25.00  17.540001  23.889999  23.889999  18766300\n",
       "1  2010-06-30  25.790001  30.42  23.299999  23.830000  23.830000  17187100\n",
       "2  2010-07-01  25.000000  25.92  20.270000  21.959999  21.959999   8218800\n",
       "3  2010-07-02  23.000000  23.10  18.709999  19.200001  19.200001   5139800\n",
       "4  2010-07-06  20.000000  20.00  15.830000  16.110001  16.110001   6866900"
      ]
     },
     "execution_count": 3,
     "metadata": {},
     "output_type": "execute_result"
    }
   ],
   "source": [
    "df.head()"
   ]
  },
  {
   "cell_type": "code",
   "execution_count": 4,
   "id": "cd2b9505",
   "metadata": {
    "execution": {
     "iopub.execute_input": "2024-11-12T22:58:24.299496Z",
     "iopub.status.busy": "2024-11-12T22:58:24.298378Z",
     "iopub.status.idle": "2024-11-12T22:58:24.306878Z",
     "shell.execute_reply": "2024-11-12T22:58:24.305659Z"
    },
    "id": "JDt0es30HAON",
    "papermill": {
     "duration": 0.030655,
     "end_time": "2024-11-12T22:58:24.309152",
     "exception": false,
     "start_time": "2024-11-12T22:58:24.278497",
     "status": "completed"
    },
    "tags": []
   },
   "outputs": [],
   "source": [
    "def check_df(dataframe, head=5):\n",
    "\n",
    "  print(\"#################### Shape ####################\")\n",
    "\n",
    "  print(dataframe.shape)\n",
    "\n",
    "  print(\"#################### Types ####################\")\n",
    "\n",
    "  print(dataframe.dtypes)\n",
    "\n",
    "  print(\"#################### Head ####################\")\n",
    "\n",
    "  print(dataframe.head(head))\n",
    "\n",
    "  print(\"#################### Tail ####################\")\n",
    "\n",
    "  print(dataframe.tail(head))\n",
    "\n",
    "  print(\"#################### NA ####################\")\n",
    "\n",
    "  print(dataframe.isnull().sum())\n",
    "\n",
    "  print(\"#################### Quantiles ####################\")\n",
    "\n",
    "  print(dataframe.select_dtypes(include=[np.number]).quantile([0, 0.05, 0.50, 0.95, 0.99, 1]).T)"
   ]
  },
  {
   "cell_type": "code",
   "execution_count": 5,
   "id": "9426e407",
   "metadata": {
    "execution": {
     "iopub.execute_input": "2024-11-12T22:58:24.348275Z",
     "iopub.status.busy": "2024-11-12T22:58:24.347260Z",
     "iopub.status.idle": "2024-11-12T22:58:24.371957Z",
     "shell.execute_reply": "2024-11-12T22:58:24.370794Z"
    },
    "id": "6EXKM05vHZk-",
    "outputId": "ad5d43c2-8346-4deb-a6c7-f9e29f50a03d",
    "papermill": {
     "duration": 0.047188,
     "end_time": "2024-11-12T22:58:24.374778",
     "exception": false,
     "start_time": "2024-11-12T22:58:24.327590",
     "status": "completed"
    },
    "tags": []
   },
   "outputs": [
    {
     "name": "stdout",
     "output_type": "stream",
     "text": [
      "#################### Shape ####################\n",
      "(2416, 7)\n",
      "#################### Types ####################\n",
      "Date          object\n",
      "Open         float64\n",
      "High         float64\n",
      "Low          float64\n",
      "Close        float64\n",
      "Adj Close    float64\n",
      "Volume         int64\n",
      "dtype: object\n",
      "#################### Head ####################\n",
      "         Date       Open   High        Low      Close  Adj Close    Volume\n",
      "0  2010-06-29  19.000000  25.00  17.540001  23.889999  23.889999  18766300\n",
      "1  2010-06-30  25.790001  30.42  23.299999  23.830000  23.830000  17187100\n",
      "2  2010-07-01  25.000000  25.92  20.270000  21.959999  21.959999   8218800\n",
      "3  2010-07-02  23.000000  23.10  18.709999  19.200001  19.200001   5139800\n",
      "4  2010-07-06  20.000000  20.00  15.830000  16.110001  16.110001   6866900\n",
      "#################### Tail ####################\n",
      "            Date        Open        High         Low       Close   Adj Close  \\\n",
      "2411  2020-01-28  568.489990  576.809998  558.080017  566.900024  566.900024   \n",
      "2412  2020-01-29  575.690002  589.799988  567.429993  580.989990  580.989990   \n",
      "2413  2020-01-30  632.419983  650.880005  618.000000  640.809998  640.809998   \n",
      "2414  2020-01-31  640.000000  653.000000  632.520020  650.570007  650.570007   \n",
      "2415  2020-02-03  673.690002  786.140015  673.520020  780.000000  780.000000   \n",
      "\n",
      "        Volume  \n",
      "2411  11788500  \n",
      "2412  17801500  \n",
      "2413  29005700  \n",
      "2414  15719300  \n",
      "2415  47065000  \n",
      "#################### NA ####################\n",
      "Date         0\n",
      "Open         0\n",
      "High         0\n",
      "Low          0\n",
      "Close        0\n",
      "Adj Close    0\n",
      "Volume       0\n",
      "dtype: int64\n",
      "#################### Quantiles ####################\n",
      "                    0.00           0.05          0.50          0.95  \\\n",
      "Open           16.139999      23.384999  2.130350e+02  3.519100e+02   \n",
      "High           16.629999      24.022501  2.167450e+02  3.567500e+02   \n",
      "Low            14.980000      22.867499  2.088700e+02  3.460250e+02   \n",
      "Close          15.800000      23.565000  2.129600e+02  3.511675e+02   \n",
      "Adj Close      15.800000      23.565000  2.129600e+02  3.511675e+02   \n",
      "Volume     118500.000000  633825.000000  4.578400e+06  1.476090e+07   \n",
      "\n",
      "                   0.99          1.00  \n",
      "Open       4.235790e+02  6.736900e+02  \n",
      "High       4.284705e+02  7.861400e+02  \n",
      "Low        4.122865e+02  6.735200e+02  \n",
      "Close      4.243455e+02  7.800000e+02  \n",
      "Adj Close  4.243455e+02  7.800000e+02  \n",
      "Volume     2.459959e+07  4.706500e+07  \n"
     ]
    }
   ],
   "source": [
    "check_df(df)"
   ]
  },
  {
   "cell_type": "code",
   "execution_count": 6,
   "id": "6315f2f1",
   "metadata": {
    "execution": {
     "iopub.execute_input": "2024-11-12T22:58:24.414282Z",
     "iopub.status.busy": "2024-11-12T22:58:24.413436Z",
     "iopub.status.idle": "2024-11-12T22:58:24.425544Z",
     "shell.execute_reply": "2024-11-12T22:58:24.424371Z"
    },
    "id": "KaXW6RJdHZd3",
    "papermill": {
     "duration": 0.034622,
     "end_time": "2024-11-12T22:58:24.427992",
     "exception": false,
     "start_time": "2024-11-12T22:58:24.393370",
     "status": "completed"
    },
    "tags": []
   },
   "outputs": [],
   "source": [
    "# converting object type to datetime for date\n",
    "\n",
    "\n",
    "\n",
    "df[\"Date\"] = pd.to_datetime(df[\"Date\"])"
   ]
  },
  {
   "cell_type": "code",
   "execution_count": 7,
   "id": "60c56c06",
   "metadata": {
    "execution": {
     "iopub.execute_input": "2024-11-12T22:58:24.467371Z",
     "iopub.status.busy": "2024-11-12T22:58:24.466270Z",
     "iopub.status.idle": "2024-11-12T22:58:24.481827Z",
     "shell.execute_reply": "2024-11-12T22:58:24.480582Z"
    },
    "id": "dIIcH5hOLT6s",
    "outputId": "7e2c3a3b-96ca-4d7d-fc47-5c7e13391c59",
    "papermill": {
     "duration": 0.037687,
     "end_time": "2024-11-12T22:58:24.484212",
     "exception": false,
     "start_time": "2024-11-12T22:58:24.446525",
     "status": "completed"
    },
    "tags": []
   },
   "outputs": [
    {
     "data": {
      "text/html": [
       "<div>\n",
       "<style scoped>\n",
       "    .dataframe tbody tr th:only-of-type {\n",
       "        vertical-align: middle;\n",
       "    }\n",
       "\n",
       "    .dataframe tbody tr th {\n",
       "        vertical-align: top;\n",
       "    }\n",
       "\n",
       "    .dataframe thead th {\n",
       "        text-align: right;\n",
       "    }\n",
       "</style>\n",
       "<table border=\"1\" class=\"dataframe\">\n",
       "  <thead>\n",
       "    <tr style=\"text-align: right;\">\n",
       "      <th></th>\n",
       "      <th>Date</th>\n",
       "      <th>Open</th>\n",
       "      <th>High</th>\n",
       "      <th>Low</th>\n",
       "      <th>Close</th>\n",
       "      <th>Adj Close</th>\n",
       "      <th>Volume</th>\n",
       "    </tr>\n",
       "  </thead>\n",
       "  <tbody>\n",
       "    <tr>\n",
       "      <th>0</th>\n",
       "      <td>2010-06-29</td>\n",
       "      <td>19.000000</td>\n",
       "      <td>25.00</td>\n",
       "      <td>17.540001</td>\n",
       "      <td>23.889999</td>\n",
       "      <td>23.889999</td>\n",
       "      <td>18766300</td>\n",
       "    </tr>\n",
       "    <tr>\n",
       "      <th>1</th>\n",
       "      <td>2010-06-30</td>\n",
       "      <td>25.790001</td>\n",
       "      <td>30.42</td>\n",
       "      <td>23.299999</td>\n",
       "      <td>23.830000</td>\n",
       "      <td>23.830000</td>\n",
       "      <td>17187100</td>\n",
       "    </tr>\n",
       "    <tr>\n",
       "      <th>2</th>\n",
       "      <td>2010-07-01</td>\n",
       "      <td>25.000000</td>\n",
       "      <td>25.92</td>\n",
       "      <td>20.270000</td>\n",
       "      <td>21.959999</td>\n",
       "      <td>21.959999</td>\n",
       "      <td>8218800</td>\n",
       "    </tr>\n",
       "    <tr>\n",
       "      <th>3</th>\n",
       "      <td>2010-07-02</td>\n",
       "      <td>23.000000</td>\n",
       "      <td>23.10</td>\n",
       "      <td>18.709999</td>\n",
       "      <td>19.200001</td>\n",
       "      <td>19.200001</td>\n",
       "      <td>5139800</td>\n",
       "    </tr>\n",
       "    <tr>\n",
       "      <th>4</th>\n",
       "      <td>2010-07-06</td>\n",
       "      <td>20.000000</td>\n",
       "      <td>20.00</td>\n",
       "      <td>15.830000</td>\n",
       "      <td>16.110001</td>\n",
       "      <td>16.110001</td>\n",
       "      <td>6866900</td>\n",
       "    </tr>\n",
       "  </tbody>\n",
       "</table>\n",
       "</div>"
      ],
      "text/plain": [
       "        Date       Open   High        Low      Close  Adj Close    Volume\n",
       "0 2010-06-29  19.000000  25.00  17.540001  23.889999  23.889999  18766300\n",
       "1 2010-06-30  25.790001  30.42  23.299999  23.830000  23.830000  17187100\n",
       "2 2010-07-01  25.000000  25.92  20.270000  21.959999  21.959999   8218800\n",
       "3 2010-07-02  23.000000  23.10  18.709999  19.200001  19.200001   5139800\n",
       "4 2010-07-06  20.000000  20.00  15.830000  16.110001  16.110001   6866900"
      ]
     },
     "execution_count": 7,
     "metadata": {},
     "output_type": "execute_result"
    }
   ],
   "source": [
    "df.head()"
   ]
  },
  {
   "cell_type": "code",
   "execution_count": 8,
   "id": "8e27d687",
   "metadata": {
    "execution": {
     "iopub.execute_input": "2024-11-12T22:58:24.524441Z",
     "iopub.status.busy": "2024-11-12T22:58:24.523628Z",
     "iopub.status.idle": "2024-11-12T22:58:24.533674Z",
     "shell.execute_reply": "2024-11-12T22:58:24.532458Z"
    },
    "id": "F0W_bXbsLT03",
    "papermill": {
     "duration": 0.03318,
     "end_time": "2024-11-12T22:58:24.536309",
     "exception": false,
     "start_time": "2024-11-12T22:58:24.503129",
     "status": "completed"
    },
    "tags": []
   },
   "outputs": [],
   "source": [
    "tesla_df = df[[\"Date\", \"Close\"]]"
   ]
  },
  {
   "cell_type": "code",
   "execution_count": 9,
   "id": "8e85d81d",
   "metadata": {
    "execution": {
     "iopub.execute_input": "2024-11-12T22:58:24.576354Z",
     "iopub.status.busy": "2024-11-12T22:58:24.575294Z",
     "iopub.status.idle": "2024-11-12T22:58:24.587232Z",
     "shell.execute_reply": "2024-11-12T22:58:24.585914Z"
    },
    "id": "M5GvcrVnLTuv",
    "outputId": "332c0079-f286-49f5-c993-529c2c0f3f75",
    "papermill": {
     "duration": 0.034548,
     "end_time": "2024-11-12T22:58:24.589650",
     "exception": false,
     "start_time": "2024-11-12T22:58:24.555102",
     "status": "completed"
    },
    "tags": []
   },
   "outputs": [
    {
     "data": {
      "text/html": [
       "<div>\n",
       "<style scoped>\n",
       "    .dataframe tbody tr th:only-of-type {\n",
       "        vertical-align: middle;\n",
       "    }\n",
       "\n",
       "    .dataframe tbody tr th {\n",
       "        vertical-align: top;\n",
       "    }\n",
       "\n",
       "    .dataframe thead th {\n",
       "        text-align: right;\n",
       "    }\n",
       "</style>\n",
       "<table border=\"1\" class=\"dataframe\">\n",
       "  <thead>\n",
       "    <tr style=\"text-align: right;\">\n",
       "      <th></th>\n",
       "      <th>Date</th>\n",
       "      <th>Close</th>\n",
       "    </tr>\n",
       "  </thead>\n",
       "  <tbody>\n",
       "    <tr>\n",
       "      <th>0</th>\n",
       "      <td>2010-06-29</td>\n",
       "      <td>23.889999</td>\n",
       "    </tr>\n",
       "    <tr>\n",
       "      <th>1</th>\n",
       "      <td>2010-06-30</td>\n",
       "      <td>23.830000</td>\n",
       "    </tr>\n",
       "    <tr>\n",
       "      <th>2</th>\n",
       "      <td>2010-07-01</td>\n",
       "      <td>21.959999</td>\n",
       "    </tr>\n",
       "    <tr>\n",
       "      <th>3</th>\n",
       "      <td>2010-07-02</td>\n",
       "      <td>19.200001</td>\n",
       "    </tr>\n",
       "    <tr>\n",
       "      <th>4</th>\n",
       "      <td>2010-07-06</td>\n",
       "      <td>16.110001</td>\n",
       "    </tr>\n",
       "  </tbody>\n",
       "</table>\n",
       "</div>"
      ],
      "text/plain": [
       "        Date      Close\n",
       "0 2010-06-29  23.889999\n",
       "1 2010-06-30  23.830000\n",
       "2 2010-07-01  21.959999\n",
       "3 2010-07-02  19.200001\n",
       "4 2010-07-06  16.110001"
      ]
     },
     "execution_count": 9,
     "metadata": {},
     "output_type": "execute_result"
    }
   ],
   "source": [
    "tesla_df.head()"
   ]
  },
  {
   "cell_type": "code",
   "execution_count": 10,
   "id": "bd3396f6",
   "metadata": {
    "execution": {
     "iopub.execute_input": "2024-11-12T22:58:24.630262Z",
     "iopub.status.busy": "2024-11-12T22:58:24.629785Z",
     "iopub.status.idle": "2024-11-12T22:58:24.637771Z",
     "shell.execute_reply": "2024-11-12T22:58:24.636277Z"
    },
    "id": "EnSUEgemLcsu",
    "outputId": "56358c84-ce8a-4e21-fdd6-9512dfcedd7a",
    "papermill": {
     "duration": 0.031002,
     "end_time": "2024-11-12T22:58:24.640299",
     "exception": false,
     "start_time": "2024-11-12T22:58:24.609297",
     "status": "completed"
    },
    "tags": []
   },
   "outputs": [
    {
     "name": "stdout",
     "output_type": "stream",
     "text": [
      "Minimum Date: 2010-06-29 00:00:00\n",
      "Maximum Date: 2020-02-03 00:00:00\n"
     ]
    }
   ],
   "source": [
    "print(\"Minimum Date:\", tesla_df[\"Date\"].min())\n",
    "\n",
    "print(\"Maximum Date:\", tesla_df[\"Date\"].max())"
   ]
  },
  {
   "cell_type": "code",
   "execution_count": 11,
   "id": "d7342a62",
   "metadata": {
    "execution": {
     "iopub.execute_input": "2024-11-12T22:58:24.680872Z",
     "iopub.status.busy": "2024-11-12T22:58:24.680453Z",
     "iopub.status.idle": "2024-11-12T22:58:24.686040Z",
     "shell.execute_reply": "2024-11-12T22:58:24.684755Z"
    },
    "id": "rg6NLB1aLcpU",
    "papermill": {
     "duration": 0.02871,
     "end_time": "2024-11-12T22:58:24.688559",
     "exception": false,
     "start_time": "2024-11-12T22:58:24.659849",
     "status": "completed"
    },
    "tags": []
   },
   "outputs": [],
   "source": [
    "tesla_df.index = tesla_df[\"Date\"]"
   ]
  },
  {
   "cell_type": "code",
   "execution_count": 12,
   "id": "6d31bf0a",
   "metadata": {
    "execution": {
     "iopub.execute_input": "2024-11-12T22:58:24.728415Z",
     "iopub.status.busy": "2024-11-12T22:58:24.727964Z",
     "iopub.status.idle": "2024-11-12T22:58:24.741581Z",
     "shell.execute_reply": "2024-11-12T22:58:24.740419Z"
    },
    "id": "xFDrAx2sPoQc",
    "outputId": "3ecc670e-0acc-4246-f1bd-9e6eae9c648d",
    "papermill": {
     "duration": 0.036442,
     "end_time": "2024-11-12T22:58:24.744031",
     "exception": false,
     "start_time": "2024-11-12T22:58:24.707589",
     "status": "completed"
    },
    "tags": []
   },
   "outputs": [
    {
     "data": {
      "text/html": [
       "<div>\n",
       "<style scoped>\n",
       "    .dataframe tbody tr th:only-of-type {\n",
       "        vertical-align: middle;\n",
       "    }\n",
       "\n",
       "    .dataframe tbody tr th {\n",
       "        vertical-align: top;\n",
       "    }\n",
       "\n",
       "    .dataframe thead th {\n",
       "        text-align: right;\n",
       "    }\n",
       "</style>\n",
       "<table border=\"1\" class=\"dataframe\">\n",
       "  <thead>\n",
       "    <tr style=\"text-align: right;\">\n",
       "      <th></th>\n",
       "      <th>Date</th>\n",
       "      <th>Close</th>\n",
       "    </tr>\n",
       "    <tr>\n",
       "      <th>Date</th>\n",
       "      <th></th>\n",
       "      <th></th>\n",
       "    </tr>\n",
       "  </thead>\n",
       "  <tbody>\n",
       "    <tr>\n",
       "      <th>2010-06-29</th>\n",
       "      <td>2010-06-29</td>\n",
       "      <td>23.889999</td>\n",
       "    </tr>\n",
       "    <tr>\n",
       "      <th>2010-06-30</th>\n",
       "      <td>2010-06-30</td>\n",
       "      <td>23.830000</td>\n",
       "    </tr>\n",
       "    <tr>\n",
       "      <th>2010-07-01</th>\n",
       "      <td>2010-07-01</td>\n",
       "      <td>21.959999</td>\n",
       "    </tr>\n",
       "    <tr>\n",
       "      <th>2010-07-02</th>\n",
       "      <td>2010-07-02</td>\n",
       "      <td>19.200001</td>\n",
       "    </tr>\n",
       "    <tr>\n",
       "      <th>2010-07-06</th>\n",
       "      <td>2010-07-06</td>\n",
       "      <td>16.110001</td>\n",
       "    </tr>\n",
       "    <tr>\n",
       "      <th>...</th>\n",
       "      <td>...</td>\n",
       "      <td>...</td>\n",
       "    </tr>\n",
       "    <tr>\n",
       "      <th>2020-01-28</th>\n",
       "      <td>2020-01-28</td>\n",
       "      <td>566.900024</td>\n",
       "    </tr>\n",
       "    <tr>\n",
       "      <th>2020-01-29</th>\n",
       "      <td>2020-01-29</td>\n",
       "      <td>580.989990</td>\n",
       "    </tr>\n",
       "    <tr>\n",
       "      <th>2020-01-30</th>\n",
       "      <td>2020-01-30</td>\n",
       "      <td>640.809998</td>\n",
       "    </tr>\n",
       "    <tr>\n",
       "      <th>2020-01-31</th>\n",
       "      <td>2020-01-31</td>\n",
       "      <td>650.570007</td>\n",
       "    </tr>\n",
       "    <tr>\n",
       "      <th>2020-02-03</th>\n",
       "      <td>2020-02-03</td>\n",
       "      <td>780.000000</td>\n",
       "    </tr>\n",
       "  </tbody>\n",
       "</table>\n",
       "<p>2416 rows × 2 columns</p>\n",
       "</div>"
      ],
      "text/plain": [
       "                 Date       Close\n",
       "Date                             \n",
       "2010-06-29 2010-06-29   23.889999\n",
       "2010-06-30 2010-06-30   23.830000\n",
       "2010-07-01 2010-07-01   21.959999\n",
       "2010-07-02 2010-07-02   19.200001\n",
       "2010-07-06 2010-07-06   16.110001\n",
       "...               ...         ...\n",
       "2020-01-28 2020-01-28  566.900024\n",
       "2020-01-29 2020-01-29  580.989990\n",
       "2020-01-30 2020-01-30  640.809998\n",
       "2020-01-31 2020-01-31  650.570007\n",
       "2020-02-03 2020-02-03  780.000000\n",
       "\n",
       "[2416 rows x 2 columns]"
      ]
     },
     "execution_count": 12,
     "metadata": {},
     "output_type": "execute_result"
    }
   ],
   "source": [
    "tesla_df"
   ]
  },
  {
   "cell_type": "code",
   "execution_count": 13,
   "id": "95563ce3",
   "metadata": {
    "execution": {
     "iopub.execute_input": "2024-11-12T22:58:24.784880Z",
     "iopub.status.busy": "2024-11-12T22:58:24.784444Z",
     "iopub.status.idle": "2024-11-12T22:58:24.790837Z",
     "shell.execute_reply": "2024-11-12T22:58:24.789656Z"
    },
    "id": "sKEu32zHPvxW",
    "papermill": {
     "duration": 0.029789,
     "end_time": "2024-11-12T22:58:24.793247",
     "exception": false,
     "start_time": "2024-11-12T22:58:24.763458",
     "status": "completed"
    },
    "tags": []
   },
   "outputs": [],
   "source": [
    "tesla_df.drop(\"Date\", axis=1, inplace=True)"
   ]
  },
  {
   "cell_type": "code",
   "execution_count": 14,
   "id": "46534910",
   "metadata": {
    "execution": {
     "iopub.execute_input": "2024-11-12T22:58:24.834463Z",
     "iopub.status.busy": "2024-11-12T22:58:24.833998Z",
     "iopub.status.idle": "2024-11-12T22:58:24.847164Z",
     "shell.execute_reply": "2024-11-12T22:58:24.845958Z"
    },
    "id": "Nrz6VWVYP6oq",
    "outputId": "ed3648a2-7ac4-4975-ce38-4c651be77aed",
    "papermill": {
     "duration": 0.036581,
     "end_time": "2024-11-12T22:58:24.849678",
     "exception": false,
     "start_time": "2024-11-12T22:58:24.813097",
     "status": "completed"
    },
    "tags": []
   },
   "outputs": [
    {
     "data": {
      "text/html": [
       "<div>\n",
       "<style scoped>\n",
       "    .dataframe tbody tr th:only-of-type {\n",
       "        vertical-align: middle;\n",
       "    }\n",
       "\n",
       "    .dataframe tbody tr th {\n",
       "        vertical-align: top;\n",
       "    }\n",
       "\n",
       "    .dataframe thead th {\n",
       "        text-align: right;\n",
       "    }\n",
       "</style>\n",
       "<table border=\"1\" class=\"dataframe\">\n",
       "  <thead>\n",
       "    <tr style=\"text-align: right;\">\n",
       "      <th></th>\n",
       "      <th>Close</th>\n",
       "    </tr>\n",
       "    <tr>\n",
       "      <th>Date</th>\n",
       "      <th></th>\n",
       "    </tr>\n",
       "  </thead>\n",
       "  <tbody>\n",
       "    <tr>\n",
       "      <th>2010-06-29</th>\n",
       "      <td>23.889999</td>\n",
       "    </tr>\n",
       "    <tr>\n",
       "      <th>2010-06-30</th>\n",
       "      <td>23.830000</td>\n",
       "    </tr>\n",
       "    <tr>\n",
       "      <th>2010-07-01</th>\n",
       "      <td>21.959999</td>\n",
       "    </tr>\n",
       "    <tr>\n",
       "      <th>2010-07-02</th>\n",
       "      <td>19.200001</td>\n",
       "    </tr>\n",
       "    <tr>\n",
       "      <th>2010-07-06</th>\n",
       "      <td>16.110001</td>\n",
       "    </tr>\n",
       "    <tr>\n",
       "      <th>...</th>\n",
       "      <td>...</td>\n",
       "    </tr>\n",
       "    <tr>\n",
       "      <th>2020-01-28</th>\n",
       "      <td>566.900024</td>\n",
       "    </tr>\n",
       "    <tr>\n",
       "      <th>2020-01-29</th>\n",
       "      <td>580.989990</td>\n",
       "    </tr>\n",
       "    <tr>\n",
       "      <th>2020-01-30</th>\n",
       "      <td>640.809998</td>\n",
       "    </tr>\n",
       "    <tr>\n",
       "      <th>2020-01-31</th>\n",
       "      <td>650.570007</td>\n",
       "    </tr>\n",
       "    <tr>\n",
       "      <th>2020-02-03</th>\n",
       "      <td>780.000000</td>\n",
       "    </tr>\n",
       "  </tbody>\n",
       "</table>\n",
       "<p>2416 rows × 1 columns</p>\n",
       "</div>"
      ],
      "text/plain": [
       "                 Close\n",
       "Date                  \n",
       "2010-06-29   23.889999\n",
       "2010-06-30   23.830000\n",
       "2010-07-01   21.959999\n",
       "2010-07-02   19.200001\n",
       "2010-07-06   16.110001\n",
       "...                ...\n",
       "2020-01-28  566.900024\n",
       "2020-01-29  580.989990\n",
       "2020-01-30  640.809998\n",
       "2020-01-31  650.570007\n",
       "2020-02-03  780.000000\n",
       "\n",
       "[2416 rows x 1 columns]"
      ]
     },
     "execution_count": 14,
     "metadata": {},
     "output_type": "execute_result"
    }
   ],
   "source": [
    "tesla_df"
   ]
  },
  {
   "cell_type": "code",
   "execution_count": 15,
   "id": "c8c27b1b",
   "metadata": {
    "execution": {
     "iopub.execute_input": "2024-11-12T22:58:24.891672Z",
     "iopub.status.busy": "2024-11-12T22:58:24.890610Z",
     "iopub.status.idle": "2024-11-12T22:58:24.896073Z",
     "shell.execute_reply": "2024-11-12T22:58:24.894953Z"
    },
    "id": "8wDQxDMbP6j9",
    "papermill": {
     "duration": 0.02932,
     "end_time": "2024-11-12T22:58:24.898666",
     "exception": false,
     "start_time": "2024-11-12T22:58:24.869346",
     "status": "completed"
    },
    "tags": []
   },
   "outputs": [],
   "source": [
    "result_df = tesla_df.copy()"
   ]
  },
  {
   "cell_type": "code",
   "execution_count": 16,
   "id": "19fd0c78",
   "metadata": {
    "execution": {
     "iopub.execute_input": "2024-11-12T22:58:24.941223Z",
     "iopub.status.busy": "2024-11-12T22:58:24.940187Z",
     "iopub.status.idle": "2024-11-12T22:58:25.661865Z",
     "shell.execute_reply": "2024-11-12T22:58:25.660566Z"
    },
    "id": "_e2nvcLLQA7c",
    "outputId": "7d6ec0ac-e2e8-4b01-b230-07312d0a25c7",
    "papermill": {
     "duration": 0.745636,
     "end_time": "2024-11-12T22:58:25.664630",
     "exception": false,
     "start_time": "2024-11-12T22:58:24.918994",
     "status": "completed"
    },
    "tags": []
   },
   "outputs": [
    {
     "data": {
      "image/png": "[encoded data removed]",
      "text/plain": [
       "<Figure size 1200x600 with 1 Axes>"
      ]
     },
     "metadata": {},
     "output_type": "display_data"
    }
   ],
   "source": [
    "plt.figure(figsize=(12,6))\n",
    "\n",
    "plt.plot(tesla_df['Close'], color='blue');\n",
    "\n",
    "plt.ylabel('Stock Price')\n",
    "\n",
    "plt.title('Tesla Stock Price')\n",
    "\n",
    "plt.xlabel('Time')\n",
    "\n",
    "plt.show()"
   ]
  },
  {
   "cell_type": "code",
   "execution_count": 17,
   "id": "bba08707",
   "metadata": {
    "execution": {
     "iopub.execute_input": "2024-11-12T22:58:25.708453Z",
     "iopub.status.busy": "2024-11-12T22:58:25.708002Z",
     "iopub.status.idle": "2024-11-12T22:58:25.713490Z",
     "shell.execute_reply": "2024-11-12T22:58:25.712285Z"
    },
    "id": "DwUgx1L2QbBz",
    "papermill": {
     "duration": 0.029985,
     "end_time": "2024-11-12T22:58:25.715893",
     "exception": false,
     "start_time": "2024-11-12T22:58:25.685908",
     "status": "completed"
    },
    "tags": []
   },
   "outputs": [],
   "source": [
    "tesla_df = tesla_df.values"
   ]
  },
  {
   "cell_type": "code",
   "execution_count": 18,
   "id": "7612cc77",
   "metadata": {
    "execution": {
     "iopub.execute_input": "2024-11-12T22:58:25.758956Z",
     "iopub.status.busy": "2024-11-12T22:58:25.758159Z",
     "iopub.status.idle": "2024-11-12T22:58:25.766200Z",
     "shell.execute_reply": "2024-11-12T22:58:25.765046Z"
    },
    "id": "V9zLfdraQa8f",
    "outputId": "778509ea-14db-4244-a0bf-5cc627e71c37",
    "papermill": {
     "duration": 0.032342,
     "end_time": "2024-11-12T22:58:25.768604",
     "exception": false,
     "start_time": "2024-11-12T22:58:25.736262",
     "status": "completed"
    },
    "tags": []
   },
   "outputs": [
    {
     "data": {
      "text/plain": [
       "array([[23.889999],\n",
       "       [23.83    ],\n",
       "       [21.959999],\n",
       "       [19.200001],\n",
       "       [16.110001]])"
      ]
     },
     "execution_count": 18,
     "metadata": {},
     "output_type": "execute_result"
    }
   ],
   "source": [
    "tesla_df[0:5]"
   ]
  },
  {
   "cell_type": "code",
   "execution_count": 19,
   "id": "35fe2d0f",
   "metadata": {
    "execution": {
     "iopub.execute_input": "2024-11-12T22:58:25.812183Z",
     "iopub.status.busy": "2024-11-12T22:58:25.811728Z",
     "iopub.status.idle": "2024-11-12T22:58:25.816994Z",
     "shell.execute_reply": "2024-11-12T22:58:25.815800Z"
    },
    "id": "i4bVh2c8Qa3N",
    "papermill": {
     "duration": 0.03029,
     "end_time": "2024-11-12T22:58:25.819592",
     "exception": false,
     "start_time": "2024-11-12T22:58:25.789302",
     "status": "completed"
    },
    "tags": []
   },
   "outputs": [],
   "source": [
    "tesla_df = tesla_df.astype('float32')"
   ]
  },
  {
   "cell_type": "markdown",
   "id": "3b9481f1",
   "metadata": {
    "id": "aspRCc2hRzgR",
    "papermill": {
     "duration": 0.020229,
     "end_time": "2024-11-12T22:58:25.860980",
     "exception": false,
     "start_time": "2024-11-12T22:58:25.840751",
     "status": "completed"
    },
    "tags": []
   },
   "source": [
    "# Train & Test Split"
   ]
  },
  {
   "cell_type": "code",
   "execution_count": 20,
   "id": "5e989dbc",
   "metadata": {
    "execution": {
     "iopub.execute_input": "2024-11-12T22:58:25.903874Z",
     "iopub.status.busy": "2024-11-12T22:58:25.903414Z",
     "iopub.status.idle": "2024-11-12T22:58:25.909734Z",
     "shell.execute_reply": "2024-11-12T22:58:25.908609Z"
    },
    "id": "rGOkko0gRLyK",
    "papermill": {
     "duration": 0.030657,
     "end_time": "2024-11-12T22:58:25.912222",
     "exception": false,
     "start_time": "2024-11-12T22:58:25.881565",
     "status": "completed"
    },
    "tags": []
   },
   "outputs": [],
   "source": [
    "def split_data(dataframe, test_size):\n",
    "\n",
    "  pos = int(round(len(dataframe) * (1-test_size)))\n",
    "\n",
    "  train = dataframe[:pos]\n",
    "\n",
    "  test = dataframe[pos:]\n",
    "\n",
    "  return train, test, pos"
   ]
  },
  {
   "cell_type": "code",
   "execution_count": 21,
   "id": "a617d09b",
   "metadata": {
    "execution": {
     "iopub.execute_input": "2024-11-12T22:58:25.955398Z",
     "iopub.status.busy": "2024-11-12T22:58:25.954928Z",
     "iopub.status.idle": "2024-11-12T22:58:25.960397Z",
     "shell.execute_reply": "2024-11-12T22:58:25.959284Z"
    },
    "id": "pcNwhX-OSIjf",
    "papermill": {
     "duration": 0.029735,
     "end_time": "2024-11-12T22:58:25.962700",
     "exception": false,
     "start_time": "2024-11-12T22:58:25.932965",
     "status": "completed"
    },
    "tags": []
   },
   "outputs": [],
   "source": [
    "# 20% test 80% train\n",
    "\n",
    "train, test, pos = split_data(tesla_df, 0.20)"
   ]
  },
  {
   "cell_type": "code",
   "execution_count": 22,
   "id": "ddb2c728",
   "metadata": {
    "execution": {
     "iopub.execute_input": "2024-11-12T22:58:26.006262Z",
     "iopub.status.busy": "2024-11-12T22:58:26.005792Z",
     "iopub.status.idle": "2024-11-12T22:58:26.011837Z",
     "shell.execute_reply": "2024-11-12T22:58:26.010812Z"
    },
    "id": "l7fJ0OT5SIdy",
    "outputId": "c33c7796-f5c4-40e4-e4ef-922dd2a30a3c",
    "papermill": {
     "duration": 0.031304,
     "end_time": "2024-11-12T22:58:26.014510",
     "exception": false,
     "start_time": "2024-11-12T22:58:25.983206",
     "status": "completed"
    },
    "tags": []
   },
   "outputs": [
    {
     "name": "stdout",
     "output_type": "stream",
     "text": [
      "(1933, 1) (483, 1)\n"
     ]
    }
   ],
   "source": [
    "print(train.shape, test.shape)"
   ]
  },
  {
   "cell_type": "code",
   "execution_count": 23,
   "id": "2d8baf08",
   "metadata": {
    "execution": {
     "iopub.execute_input": "2024-11-12T22:58:26.059542Z",
     "iopub.status.busy": "2024-11-12T22:58:26.059053Z",
     "iopub.status.idle": "2024-11-12T22:58:26.064373Z",
     "shell.execute_reply": "2024-11-12T22:58:26.063258Z"
    },
    "id": "MuoMrcqkSIXk",
    "papermill": {
     "duration": 0.031582,
     "end_time": "2024-11-12T22:58:26.066835",
     "exception": false,
     "start_time": "2024-11-12T22:58:26.035253",
     "status": "completed"
    },
    "tags": []
   },
   "outputs": [],
   "source": [
    "scaler_train = MinMaxScaler(feature_range = (0,1))"
   ]
  },
  {
   "cell_type": "code",
   "execution_count": 24,
   "id": "7909ceae",
   "metadata": {
    "execution": {
     "iopub.execute_input": "2024-11-12T22:58:26.111354Z",
     "iopub.status.busy": "2024-11-12T22:58:26.110917Z",
     "iopub.status.idle": "2024-11-12T22:58:26.117313Z",
     "shell.execute_reply": "2024-11-12T22:58:26.116182Z"
    },
    "id": "qukjh8lnTWzt",
    "papermill": {
     "duration": 0.032183,
     "end_time": "2024-11-12T22:58:26.119857",
     "exception": false,
     "start_time": "2024-11-12T22:58:26.087674",
     "status": "completed"
    },
    "tags": []
   },
   "outputs": [],
   "source": [
    "train = scaler_train.fit_transform(train)"
   ]
  },
  {
   "cell_type": "code",
   "execution_count": 25,
   "id": "b2441131",
   "metadata": {
    "execution": {
     "iopub.execute_input": "2024-11-12T22:58:26.163151Z",
     "iopub.status.busy": "2024-11-12T22:58:26.162696Z",
     "iopub.status.idle": "2024-11-12T22:58:26.167635Z",
     "shell.execute_reply": "2024-11-12T22:58:26.166480Z"
    },
    "id": "WsbgBlEPTWsz",
    "papermill": {
     "duration": 0.029378,
     "end_time": "2024-11-12T22:58:26.170017",
     "exception": false,
     "start_time": "2024-11-12T22:58:26.140639",
     "status": "completed"
    },
    "tags": []
   },
   "outputs": [],
   "source": [
    "scaler_test = MinMaxScaler(feature_range = (0,1))"
   ]
  },
  {
   "cell_type": "code",
   "execution_count": 26,
   "id": "e21f113f",
   "metadata": {
    "execution": {
     "iopub.execute_input": "2024-11-12T22:58:26.213948Z",
     "iopub.status.busy": "2024-11-12T22:58:26.213515Z",
     "iopub.status.idle": "2024-11-12T22:58:26.219564Z",
     "shell.execute_reply": "2024-11-12T22:58:26.218444Z"
    },
    "id": "Miag_kJyTWqA",
    "papermill": {
     "duration": 0.031226,
     "end_time": "2024-11-12T22:58:26.222111",
     "exception": false,
     "start_time": "2024-11-12T22:58:26.190885",
     "status": "completed"
    },
    "tags": []
   },
   "outputs": [],
   "source": [
    "test = scaler_test.fit_transform(test)"
   ]
  },
  {
   "cell_type": "code",
   "execution_count": 27,
   "id": "8c502ad6",
   "metadata": {
    "execution": {
     "iopub.execute_input": "2024-11-12T22:58:26.265918Z",
     "iopub.status.busy": "2024-11-12T22:58:26.265124Z",
     "iopub.status.idle": "2024-11-12T22:58:26.272943Z",
     "shell.execute_reply": "2024-11-12T22:58:26.271880Z"
    },
    "id": "R5abKrgoTWm9",
    "outputId": "16b70384-9cae-4bd3-caf7-b4f47b70ce1c",
    "papermill": {
     "duration": 0.032523,
     "end_time": "2024-11-12T22:58:26.275499",
     "exception": false,
     "start_time": "2024-11-12T22:58:26.242976",
     "status": "completed"
    },
    "tags": []
   },
   "outputs": [
    {
     "data": {
      "text/plain": [
       "array([[0.02191224],\n",
       "       [0.02174973],\n",
       "       [0.01668472],\n",
       "       [0.0092091 ],\n",
       "       [0.00083966]], dtype=float32)"
      ]
     },
     "execution_count": 27,
     "metadata": {},
     "output_type": "execute_result"
    }
   ],
   "source": [
    "train[0:5]"
   ]
  },
  {
   "cell_type": "code",
   "execution_count": 28,
   "id": "a98bff89",
   "metadata": {
    "execution": {
     "iopub.execute_input": "2024-11-12T22:58:26.320322Z",
     "iopub.status.busy": "2024-11-12T22:58:26.319869Z",
     "iopub.status.idle": "2024-11-12T22:58:26.327911Z",
     "shell.execute_reply": "2024-11-12T22:58:26.326702Z"
    },
    "id": "ApI9M7nATzhQ",
    "outputId": "f425b264-931f-463f-a30e-39c1db78b2a5",
    "papermill": {
     "duration": 0.033422,
     "end_time": "2024-11-12T22:58:26.330418",
     "exception": false,
     "start_time": "2024-11-12T22:58:26.296996",
     "status": "completed"
    },
    "tags": []
   },
   "outputs": [
    {
     "data": {
      "text/plain": [
       "array([[0.25685903],\n",
       "       [0.24829045],\n",
       "       [0.25511202],\n",
       "       [0.24978784],\n",
       "       [0.2465767 ]], dtype=float32)"
      ]
     },
     "execution_count": 28,
     "metadata": {},
     "output_type": "execute_result"
    }
   ],
   "source": [
    "test[0:5]"
   ]
  },
  {
   "cell_type": "code",
   "execution_count": 29,
   "id": "9568a926",
   "metadata": {
    "execution": {
     "iopub.execute_input": "2024-11-12T22:58:26.374618Z",
     "iopub.status.busy": "2024-11-12T22:58:26.374157Z",
     "iopub.status.idle": "2024-11-12T22:58:26.381048Z",
     "shell.execute_reply": "2024-11-12T22:58:26.379760Z"
    },
    "id": "yZRs0I7KT2Tb",
    "papermill": {
     "duration": 0.031934,
     "end_time": "2024-11-12T22:58:26.383475",
     "exception": false,
     "start_time": "2024-11-12T22:58:26.351541",
     "status": "completed"
    },
    "tags": []
   },
   "outputs": [],
   "source": [
    "def create_features(data, lookback):\n",
    "\n",
    "  X, Y = [], []\n",
    "\n",
    "  for i in range (lookback, len(data)):\n",
    "\n",
    "    X.append(data[i-lookback:i,0])\n",
    "\n",
    "    Y.append(data[i,0])\n",
    "\n",
    "\n",
    "\n",
    "  return np.array(X), np.array(Y)"
   ]
  },
  {
   "cell_type": "code",
   "execution_count": 30,
   "id": "26678641",
   "metadata": {
    "execution": {
     "iopub.execute_input": "2024-11-12T22:58:26.428291Z",
     "iopub.status.busy": "2024-11-12T22:58:26.427222Z",
     "iopub.status.idle": "2024-11-12T22:58:26.432629Z",
     "shell.execute_reply": "2024-11-12T22:58:26.431458Z"
    },
    "id": "h5iMlEGpVWYm",
    "papermill": {
     "duration": 0.03056,
     "end_time": "2024-11-12T22:58:26.435210",
     "exception": false,
     "start_time": "2024-11-12T22:58:26.404650",
     "status": "completed"
    },
    "tags": []
   },
   "outputs": [],
   "source": [
    "lookback = 20"
   ]
  },
  {
   "cell_type": "code",
   "execution_count": 31,
   "id": "f68de195",
   "metadata": {
    "execution": {
     "iopub.execute_input": "2024-11-12T22:58:26.480704Z",
     "iopub.status.busy": "2024-11-12T22:58:26.479374Z",
     "iopub.status.idle": "2024-11-12T22:58:26.489866Z",
     "shell.execute_reply": "2024-11-12T22:58:26.488918Z"
    },
    "id": "4ZZYVOSfVZdd",
    "papermill": {
     "duration": 0.035351,
     "end_time": "2024-11-12T22:58:26.492279",
     "exception": false,
     "start_time": "2024-11-12T22:58:26.456928",
     "status": "completed"
    },
    "tags": []
   },
   "outputs": [],
   "source": [
    "# train dataset\n",
    "\n",
    "X_train, y_train = create_features(train, lookback)\n",
    "\n",
    "\n",
    "\n",
    "# test dataset\n",
    "\n",
    "X_test, y_test = create_features(test, lookback)"
   ]
  },
  {
   "cell_type": "code",
   "execution_count": 32,
   "id": "69861f5b",
   "metadata": {
    "execution": {
     "iopub.execute_input": "2024-11-12T22:58:26.536445Z",
     "iopub.status.busy": "2024-11-12T22:58:26.535972Z",
     "iopub.status.idle": "2024-11-12T22:58:26.541812Z",
     "shell.execute_reply": "2024-11-12T22:58:26.540701Z"
    },
    "id": "BWWyFA-YVZao",
    "outputId": "050bc650-e423-4d3d-e44b-45ee938e68ce",
    "papermill": {
     "duration": 0.031428,
     "end_time": "2024-11-12T22:58:26.544868",
     "exception": false,
     "start_time": "2024-11-12T22:58:26.513440",
     "status": "completed"
    },
    "tags": []
   },
   "outputs": [
    {
     "name": "stdout",
     "output_type": "stream",
     "text": [
      "(1913, 20) (1913,) (463, 20) (463,)\n"
     ]
    }
   ],
   "source": [
    "print(X_train.shape, y_train.shape, X_test.shape, y_test.shape)"
   ]
  },
  {
   "cell_type": "code",
   "execution_count": 33,
   "id": "13c43362",
   "metadata": {
    "execution": {
     "iopub.execute_input": "2024-11-12T22:58:26.589969Z",
     "iopub.status.busy": "2024-11-12T22:58:26.588941Z",
     "iopub.status.idle": "2024-11-12T22:58:26.598286Z",
     "shell.execute_reply": "2024-11-12T22:58:26.597052Z"
    },
    "id": "GyMnTPLZVZWz",
    "outputId": "281723c6-8b31-4bd3-ba9d-aa145e04e91d",
    "papermill": {
     "duration": 0.035916,
     "end_time": "2024-11-12T22:58:26.602054",
     "exception": false,
     "start_time": "2024-11-12T22:58:26.566138",
     "status": "completed"
    },
    "tags": []
   },
   "outputs": [
    {
     "data": {
      "text/plain": [
       "array([[0.02191224, 0.02174973, 0.01668472, 0.0092091 , 0.00083966,\n",
       "        0.        , 0.00449621, 0.00433369, 0.0033857 , 0.00633803,\n",
       "        0.01094258, 0.011078  , 0.01310942, 0.0165493 , 0.01218851,\n",
       "        0.01197183, 0.01408451, 0.01486999, 0.01394908, 0.01286566],\n",
       "       [0.02174973, 0.01668472, 0.0092091 , 0.00083966, 0.        ,\n",
       "        0.00449621, 0.00433369, 0.0033857 , 0.00633803, 0.01094258,\n",
       "        0.011078  , 0.01310942, 0.0165493 , 0.01218851, 0.01197183,\n",
       "        0.01408451, 0.01486999, 0.01394908, 0.01286566, 0.01332611],\n",
       "       [0.01668472, 0.0092091 , 0.00083966, 0.        , 0.00449621,\n",
       "        0.00433369, 0.0033857 , 0.00633803, 0.01094258, 0.011078  ,\n",
       "        0.01310942, 0.0165493 , 0.01218851, 0.01197183, 0.01408451,\n",
       "        0.01486999, 0.01394908, 0.01286566, 0.01332611, 0.01232395],\n",
       "       [0.0092091 , 0.00083966, 0.        , 0.00449621, 0.00433369,\n",
       "        0.0033857 , 0.00633803, 0.01094258, 0.011078  , 0.01310942,\n",
       "        0.0165493 , 0.01218851, 0.01197183, 0.01408451, 0.01486999,\n",
       "        0.01394908, 0.01286566, 0.01332611, 0.01232395, 0.01121344],\n",
       "       [0.00083966, 0.        , 0.00449621, 0.00433369, 0.0033857 ,\n",
       "        0.00633803, 0.01094258, 0.011078  , 0.01310942, 0.0165493 ,\n",
       "        0.01218851, 0.01197183, 0.01408451, 0.01486999, 0.01394908,\n",
       "        0.01286566, 0.01332611, 0.01232395, 0.01121344, 0.01386782]],\n",
       "      dtype=float32)"
      ]
     },
     "execution_count": 33,
     "metadata": {},
     "output_type": "execute_result"
    }
   ],
   "source": [
    "X_train[0:5]"
   ]
  },
  {
   "cell_type": "code",
   "execution_count": 34,
   "id": "e59c9c99",
   "metadata": {
    "execution": {
     "iopub.execute_input": "2024-11-12T22:58:26.670342Z",
     "iopub.status.busy": "2024-11-12T22:58:26.669851Z",
     "iopub.status.idle": "2024-11-12T22:58:26.680532Z",
     "shell.execute_reply": "2024-11-12T22:58:26.678963Z"
    },
    "id": "uridnCfqWOQw",
    "outputId": "71a409ca-ddc4-40a2-fe9e-7189a5366515",
    "papermill": {
     "duration": 0.044821,
     "end_time": "2024-11-12T22:58:26.683906",
     "exception": false,
     "start_time": "2024-11-12T22:58:26.639085",
     "status": "completed"
    },
    "tags": []
   },
   "outputs": [
    {
     "data": {
      "text/plain": [
       "array([0.01332611, 0.01232395, 0.01121344, 0.01386782, 0.01665764],\n",
       "      dtype=float32)"
      ]
     },
     "execution_count": 34,
     "metadata": {},
     "output_type": "execute_result"
    }
   ],
   "source": [
    "y_train[0:5]"
   ]
  },
  {
   "cell_type": "code",
   "execution_count": 35,
   "id": "957f9710",
   "metadata": {
    "execution": {
     "iopub.execute_input": "2024-11-12T22:58:26.732414Z",
     "iopub.status.busy": "2024-11-12T22:58:26.731989Z",
     "iopub.status.idle": "2024-11-12T22:58:26.739976Z",
     "shell.execute_reply": "2024-11-12T22:58:26.738798Z"
    },
    "id": "EMqaBQrfWdRo",
    "outputId": "82d1733e-0061-4e87-fe00-4cf1cf3ed853",
    "papermill": {
     "duration": 0.033866,
     "end_time": "2024-11-12T22:58:26.743282",
     "exception": false,
     "start_time": "2024-11-12T22:58:26.709416",
     "status": "completed"
    },
    "tags": []
   },
   "outputs": [
    {
     "name": "stdout",
     "output_type": "stream",
     "text": [
      "(1913, 1, 20) (1913, 1) (463, 1, 20) (463, 1)\n"
     ]
    }
   ],
   "source": [
    "X_train = np.reshape(X_train, (X_train.shape[0], 1, X_train.shape[1]))\n",
    "\n",
    "X_test = np.reshape(X_test, (X_test.shape[0], 1, X_test.shape[1]))\n",
    "\n",
    "\n",
    "\n",
    "y_train = y_train.reshape(-1,1)\n",
    "\n",
    "y_test = y_test.reshape(-1,1)\n",
    "\n",
    "\n",
    "\n",
    "print(X_train.shape, y_train.shape, X_test.shape, y_test.shape)"
   ]
  },
  {
   "cell_type": "markdown",
   "id": "46482059",
   "metadata": {
    "id": "t37gP6ohYCqO",
    "papermill": {
     "duration": 0.021253,
     "end_time": "2024-11-12T22:58:26.786199",
     "exception": false,
     "start_time": "2024-11-12T22:58:26.764946",
     "status": "completed"
    },
    "tags": []
   },
   "source": [
    "# Modeling"
   ]
  },
  {
   "cell_type": "code",
   "execution_count": 36,
   "id": "a6e39b43",
   "metadata": {
    "execution": {
     "iopub.execute_input": "2024-11-12T22:58:26.831371Z",
     "iopub.status.busy": "2024-11-12T22:58:26.830954Z",
     "iopub.status.idle": "2024-11-12T22:58:26.950934Z",
     "shell.execute_reply": "2024-11-12T22:58:26.949844Z"
    },
    "id": "rsuHIIIpYEbq",
    "papermill": {
     "duration": 0.145592,
     "end_time": "2024-11-12T22:58:26.953622",
     "exception": false,
     "start_time": "2024-11-12T22:58:26.808030",
     "status": "completed"
    },
    "tags": []
   },
   "outputs": [],
   "source": [
    "model = Sequential()\n",
    "\n",
    "model.add(LSTM(units=50,\n",
    "\n",
    "               activation='relu',\n",
    "\n",
    "               input_shape=(X_train.shape[1], lookback)))\n",
    "\n",
    "model.add(Dropout(0.2))\n",
    "\n",
    "model.add(Dense(1))"
   ]
  },
  {
   "cell_type": "code",
   "execution_count": 37,
   "id": "247c0f89",
   "metadata": {
    "execution": {
     "iopub.execute_input": "2024-11-12T22:58:27.001848Z",
     "iopub.status.busy": "2024-11-12T22:58:27.000605Z",
     "iopub.status.idle": "2024-11-12T22:58:27.023868Z",
     "shell.execute_reply": "2024-11-12T22:58:27.022655Z"
    },
    "id": "0gdNUhibYEqG",
    "outputId": "8cfb676c-95b0-4f0d-9b3e-a26c60af75a8",
    "papermill": {
     "duration": 0.050083,
     "end_time": "2024-11-12T22:58:27.026119",
     "exception": false,
     "start_time": "2024-11-12T22:58:26.976036",
     "status": "completed"
    },
    "tags": []
   },
   "outputs": [
    {
     "data": {
      "text/html": [
       "<pre style=\"white-space:pre;overflow-x:auto;line-height:normal;font-family:Menlo,'DejaVu Sans Mono',consolas,'Courier New',monospace\"><span style=\"font-weight: bold\">Model: \"sequential\"</span>\n",
       "</pre>\n"
      ],
      "text/plain": [
       "\u001b[1mModel: \"sequential\"\u001b[0m\n"
      ]
     },
     "metadata": {},
     "output_type": "display_data"
    },
    {
     "data": {
      "text/html": [
       "<pre style=\"white-space:pre;overflow-x:auto;line-height:normal;font-family:Menlo,'DejaVu Sans Mono',consolas,'Courier New',monospace\">┏━━━━━━━━━━━━━━━━━━━━━━━━━━━━━━━━━┳━━━━━━━━━━━━━━━━━━━━━━━━┳━━━━━━━━━━━━━━━┓\n",
       "┃<span style=\"font-weight: bold\"> Layer (type)                    </span>┃<span style=\"font-weight: bold\"> Output Shape           </span>┃<span style=\"font-weight: bold\">       Param # </span>┃\n",
       "┡━━━━━━━━━━━━━━━━━━━━━━━━━━━━━━━━━╇━━━━━━━━━━━━━━━━━━━━━━━━╇━━━━━━━━━━━━━━━┩\n",
       "│ lstm (<span style=\"color: #0087ff; text-decoration-color: #0087ff\">LSTM</span>)                     │ (<span style=\"color: #00d7ff; text-decoration-color: #00d7ff\">None</span>, <span style=\"color: #00af00; text-decoration-color: #00af00\">50</span>)             │        <span style=\"color: #00af00; text-decoration-color: #00af00\">14,200</span> │\n",
       "├─────────────────────────────────┼────────────────────────┼───────────────┤\n",
       "│ dropout (<span style=\"color: #0087ff; text-decoration-color: #0087ff\">Dropout</span>)               │ (<span style=\"color: #00d7ff; text-decoration-color: #00d7ff\">None</span>, <span style=\"color: #00af00; text-decoration-color: #00af00\">50</span>)             │             <span style=\"color: #00af00; text-decoration-color: #00af00\">0</span> │\n",
       "├─────────────────────────────────┼────────────────────────┼───────────────┤\n",
       "│ dense (<span style=\"color: #0087ff; text-decoration-color: #0087ff\">Dense</span>)                   │ (<span style=\"color: #00d7ff; text-decoration-color: #00d7ff\">None</span>, <span style=\"color: #00af00; text-decoration-color: #00af00\">1</span>)              │            <span style=\"color: #00af00; text-decoration-color: #00af00\">51</span> │\n",
       "└─────────────────────────────────┴────────────────────────┴───────────────┘\n",
       "</pre>\n"
      ],
      "text/plain": [
       "┏━━━━━━━━━━━━━━━━━━━━━━━━━━━━━━━━━┳━━━━━━━━━━━━━━━━━━━━━━━━┳━━━━━━━━━━━━━━━┓\n",
       "┃\u001b[1m \u001b[0m\u001b[1mLayer (type)                   \u001b[0m\u001b[1m \u001b[0m┃\u001b[1m \u001b[0m\u001b[1mOutput Shape          \u001b[0m\u001b[1m \u001b[0m┃\u001b[1m \u001b[0m\u001b[1m      Param #\u001b[0m\u001b[1m \u001b[0m┃\n",
       "┡━━━━━━━━━━━━━━━━━━━━━━━━━━━━━━━━━╇━━━━━━━━━━━━━━━━━━━━━━━━╇━━━━━━━━━━━━━━━┩\n",
       "│ lstm (\u001b[38;5;33mLSTM\u001b[0m)                     │ (\u001b[38;5;45mNone\u001b[0m, \u001b[38;5;34m50\u001b[0m)             │        \u001b[38;5;34m14,200\u001b[0m │\n",
       "├─────────────────────────────────┼────────────────────────┼───────────────┤\n",
       "│ dropout (\u001b[38;5;33mDropout\u001b[0m)               │ (\u001b[38;5;45mNone\u001b[0m, \u001b[38;5;34m50\u001b[0m)             │             \u001b[38;5;34m0\u001b[0m │\n",
       "├─────────────────────────────────┼────────────────────────┼───────────────┤\n",
       "│ dense (\u001b[38;5;33mDense\u001b[0m)                   │ (\u001b[38;5;45mNone\u001b[0m, \u001b[38;5;34m1\u001b[0m)              │            \u001b[38;5;34m51\u001b[0m │\n",
       "└─────────────────────────────────┴────────────────────────┴───────────────┘\n"
      ]
     },
     "metadata": {},
     "output_type": "display_data"
    },
    {
     "data": {
      "text/html": [
       "<pre style=\"white-space:pre;overflow-x:auto;line-height:normal;font-family:Menlo,'DejaVu Sans Mono',consolas,'Courier New',monospace\"><span style=\"font-weight: bold\"> Total params: </span><span style=\"color: #00af00; text-decoration-color: #00af00\">14,251</span> (55.67 KB)\n",
       "</pre>\n"
      ],
      "text/plain": [
       "\u001b[1m Total params: \u001b[0m\u001b[38;5;34m14,251\u001b[0m (55.67 KB)\n"
      ]
     },
     "metadata": {},
     "output_type": "display_data"
    },
    {
     "data": {
      "text/html": [
       "<pre style=\"white-space:pre;overflow-x:auto;line-height:normal;font-family:Menlo,'DejaVu Sans Mono',consolas,'Courier New',monospace\"><span style=\"font-weight: bold\"> Trainable params: </span><span style=\"color: #00af00; text-decoration-color: #00af00\">14,251</span> (55.67 KB)\n",
       "</pre>\n"
      ],
      "text/plain": [
       "\u001b[1m Trainable params: \u001b[0m\u001b[38;5;34m14,251\u001b[0m (55.67 KB)\n"
      ]
     },
     "metadata": {},
     "output_type": "display_data"
    },
    {
     "data": {
      "text/html": [
       "<pre style=\"white-space:pre;overflow-x:auto;line-height:normal;font-family:Menlo,'DejaVu Sans Mono',consolas,'Courier New',monospace\"><span style=\"font-weight: bold\"> Non-trainable params: </span><span style=\"color: #00af00; text-decoration-color: #00af00\">0</span> (0.00 B)\n",
       "</pre>\n"
      ],
      "text/plain": [
       "\u001b[1m Non-trainable params: \u001b[0m\u001b[38;5;34m0\u001b[0m (0.00 B)\n"
      ]
     },
     "metadata": {},
     "output_type": "display_data"
    }
   ],
   "source": [
    "model.summary()"
   ]
  },
  {
   "cell_type": "markdown",
   "id": "6e2fc84d",
   "metadata": {
    "id": "Nn3-FtJXZXXT",
    "papermill": {
     "duration": 0.022429,
     "end_time": "2024-11-12T22:58:27.072659",
     "exception": false,
     "start_time": "2024-11-12T22:58:27.050230",
     "status": "completed"
    },
    "tags": []
   },
   "source": [
    "\n",
    "\n",
    "# Optimization and Evaluation Metrics"
   ]
  },
  {
   "cell_type": "code",
   "execution_count": 38,
   "id": "85eba54c",
   "metadata": {
    "execution": {
     "iopub.execute_input": "2024-11-12T22:58:27.120532Z",
     "iopub.status.busy": "2024-11-12T22:58:27.120047Z",
     "iopub.status.idle": "2024-11-12T22:58:27.135674Z",
     "shell.execute_reply": "2024-11-12T22:58:27.134588Z"
    },
    "id": "fyinQOIAYp7A",
    "papermill": {
     "duration": 0.042581,
     "end_time": "2024-11-12T22:58:27.138456",
     "exception": false,
     "start_time": "2024-11-12T22:58:27.095875",
     "status": "completed"
    },
    "tags": []
   },
   "outputs": [],
   "source": [
    "model.compile(loss='mean_squared_error', optimizer='adam')"
   ]
  },
  {
   "cell_type": "code",
   "execution_count": 39,
   "id": "8eeee1fd",
   "metadata": {
    "execution": {
     "iopub.execute_input": "2024-11-12T22:58:27.187369Z",
     "iopub.status.busy": "2024-11-12T22:58:27.186905Z",
     "iopub.status.idle": "2024-11-12T22:58:27.193702Z",
     "shell.execute_reply": "2024-11-12T22:58:27.192256Z"
    },
    "id": "tO_CTg1_Ypzp",
    "papermill": {
     "duration": 0.034568,
     "end_time": "2024-11-12T22:58:27.196434",
     "exception": false,
     "start_time": "2024-11-12T22:58:27.161866",
     "status": "completed"
    },
    "tags": []
   },
   "outputs": [],
   "source": [
    "callbacks = [EarlyStopping(monitor='val_loss',\n",
    "\n",
    "                           patience=3,\n",
    "\n",
    "                           verbose=1,\n",
    "\n",
    "                           mode=\"min\"),\n",
    "\n",
    "             ModelCheckpoint(filepath='mymodel.keras',\n",
    "\n",
    "                             monitor='val_loss',\n",
    "\n",
    "                             mode='min',\n",
    "\n",
    "                             save_best_only=True,\n",
    "\n",
    "                             save_weights_only=False,\n",
    "\n",
    "                             verbose=1)]"
   ]
  },
  {
   "cell_type": "code",
   "execution_count": 40,
   "id": "00c1b449",
   "metadata": {
    "execution": {
     "iopub.execute_input": "2024-11-12T22:58:27.245144Z",
     "iopub.status.busy": "2024-11-12T22:58:27.244676Z",
     "iopub.status.idle": "2024-11-12T22:58:33.853766Z",
     "shell.execute_reply": "2024-11-12T22:58:33.852732Z"
    },
    "id": "2BkyzRZzZ6Rt",
    "outputId": "fafde3cf-9f03-458f-d4ef-e6209c8ceea2",
    "papermill": {
     "duration": 6.636515,
     "end_time": "2024-11-12T22:58:33.856129",
     "exception": false,
     "start_time": "2024-11-12T22:58:27.219614",
     "status": "completed"
    },
    "tags": []
   },
   "outputs": [
    {
     "name": "stdout",
     "output_type": "stream",
     "text": [
      "Epoch 1/100\n",
      "\u001b[1m94/96\u001b[0m \u001b[32m━━━━━━━━━━━━━━━━━━━\u001b[0m\u001b[37m━\u001b[0m \u001b[1m0s\u001b[0m 2ms/step - loss: 0.0048\n",
      "Epoch 1: val_loss improved from inf to 0.00459, saving model to mymodel.keras\n",
      "\u001b[1m96/96\u001b[0m \u001b[32m━━━━━━━━━━━━━━━━━━━━\u001b[0m\u001b[37m\u001b[0m \u001b[1m3s\u001b[0m 6ms/step - loss: 0.0050 - val_loss: 0.0046\n",
      "Epoch 2/100\n",
      "\u001b[1m92/96\u001b[0m \u001b[32m━━━━━━━━━━━━━━━━━━━\u001b[0m\u001b[37m━\u001b[0m \u001b[1m0s\u001b[0m 2ms/step - loss: 0.0052\n",
      "Epoch 2: val_loss improved from 0.00459 to 0.00405, saving model to mymodel.keras\n",
      "\u001b[1m96/96\u001b[0m \u001b[32m━━━━━━━━━━━━━━━━━━━━\u001b[0m\u001b[37m\u001b[0m \u001b[1m0s\u001b[0m 3ms/step - loss: 0.0054 - val_loss: 0.0040\n",
      "Epoch 3/100\n",
      "\u001b[1m74/96\u001b[0m \u001b[32m━━━━━━━━━━━━━━━\u001b[0m\u001b[37m━━━━━\u001b[0m \u001b[1m0s\u001b[0m 2ms/step - loss: 0.0045\n",
      "Epoch 3: val_loss improved from 0.00405 to 0.00365, saving model to mymodel.keras\n",
      "\u001b[1m96/96\u001b[0m \u001b[32m━━━━━━━━━━━━━━━━━━━━\u001b[0m\u001b[37m\u001b[0m \u001b[1m0s\u001b[0m 3ms/step - loss: 0.0049 - val_loss: 0.0036\n",
      "Epoch 4/100\n",
      "\u001b[1m73/96\u001b[0m \u001b[32m━━━━━━━━━━━━━━━\u001b[0m\u001b[37m━━━━━\u001b[0m \u001b[1m0s\u001b[0m 2ms/step - loss: 0.0033\n",
      "Epoch 4: val_loss improved from 0.00365 to 0.00357, saving model to mymodel.keras\n",
      "\u001b[1m96/96\u001b[0m \u001b[32m━━━━━━━━━━━━━━━━━━━━\u001b[0m\u001b[37m\u001b[0m \u001b[1m0s\u001b[0m 3ms/step - loss: 0.0039 - val_loss: 0.0036\n",
      "Epoch 5/100\n",
      "\u001b[1m75/96\u001b[0m \u001b[32m━━━━━━━━━━━━━━━\u001b[0m\u001b[37m━━━━━\u001b[0m \u001b[1m0s\u001b[0m 2ms/step - loss: 0.0028\n",
      "Epoch 5: val_loss improved from 0.00357 to 0.00333, saving model to mymodel.keras\n",
      "\u001b[1m96/96\u001b[0m \u001b[32m━━━━━━━━━━━━━━━━━━━━\u001b[0m\u001b[37m\u001b[0m \u001b[1m0s\u001b[0m 3ms/step - loss: 0.0034 - val_loss: 0.0033\n",
      "Epoch 6/100\n",
      "\u001b[1m75/96\u001b[0m \u001b[32m━━━━━━━━━━━━━━━\u001b[0m\u001b[37m━━━━━\u001b[0m \u001b[1m0s\u001b[0m 2ms/step - loss: 0.0025\n",
      "Epoch 6: val_loss improved from 0.00333 to 0.00297, saving model to mymodel.keras\n",
      "\u001b[1m96/96\u001b[0m \u001b[32m━━━━━━━━━━━━━━━━━━━━\u001b[0m\u001b[37m\u001b[0m \u001b[1m0s\u001b[0m 3ms/step - loss: 0.0030 - val_loss: 0.0030\n",
      "Epoch 7/100\n",
      "\u001b[1m74/96\u001b[0m \u001b[32m━━━━━━━━━━━━━━━\u001b[0m\u001b[37m━━━━━\u001b[0m \u001b[1m0s\u001b[0m 2ms/step - loss: 0.0020\n",
      "Epoch 7: val_loss did not improve from 0.00297\n",
      "\u001b[1m96/96\u001b[0m \u001b[32m━━━━━━━━━━━━━━━━━━━━\u001b[0m\u001b[37m\u001b[0m \u001b[1m0s\u001b[0m 3ms/step - loss: 0.0026 - val_loss: 0.0030\n",
      "Epoch 8/100\n",
      "\u001b[1m93/96\u001b[0m \u001b[32m━━━━━━━━━━━━━━━━━━━\u001b[0m\u001b[37m━\u001b[0m \u001b[1m0s\u001b[0m 2ms/step - loss: 0.0025\n",
      "Epoch 8: val_loss improved from 0.00297 to 0.00294, saving model to mymodel.keras\n",
      "\u001b[1m96/96\u001b[0m \u001b[32m━━━━━━━━━━━━━━━━━━━━\u001b[0m\u001b[37m\u001b[0m \u001b[1m0s\u001b[0m 3ms/step - loss: 0.0027 - val_loss: 0.0029\n",
      "Epoch 9/100\n",
      "\u001b[1m96/96\u001b[0m \u001b[32m━━━━━━━━━━━━━━━━━━━━\u001b[0m\u001b[37m\u001b[0m \u001b[1m0s\u001b[0m 3ms/step - loss: 0.0025\n",
      "Epoch 9: val_loss improved from 0.00294 to 0.00262, saving model to mymodel.keras\n",
      "\u001b[1m96/96\u001b[0m \u001b[32m━━━━━━━━━━━━━━━━━━━━\u001b[0m\u001b[37m\u001b[0m \u001b[1m0s\u001b[0m 4ms/step - loss: 0.0025 - val_loss: 0.0026\n",
      "Epoch 10/100\n",
      "\u001b[1m73/96\u001b[0m \u001b[32m━━━━━━━━━━━━━━━\u001b[0m\u001b[37m━━━━━\u001b[0m \u001b[1m0s\u001b[0m 2ms/step - loss: 0.0017\n",
      "Epoch 10: val_loss did not improve from 0.00262\n",
      "\u001b[1m96/96\u001b[0m \u001b[32m━━━━━━━━━━━━━━━━━━━━\u001b[0m\u001b[37m\u001b[0m \u001b[1m0s\u001b[0m 3ms/step - loss: 0.0023 - val_loss: 0.0027\n",
      "Epoch 11/100\n",
      "\u001b[1m75/96\u001b[0m \u001b[32m━━━━━━━━━━━━━━━\u001b[0m\u001b[37m━━━━━\u001b[0m \u001b[1m0s\u001b[0m 2ms/step - loss: 0.0019\n",
      "Epoch 11: val_loss improved from 0.00262 to 0.00259, saving model to mymodel.keras\n",
      "\u001b[1m96/96\u001b[0m \u001b[32m━━━━━━━━━━━━━━━━━━━━\u001b[0m\u001b[37m\u001b[0m \u001b[1m0s\u001b[0m 3ms/step - loss: 0.0024 - val_loss: 0.0026\n",
      "Epoch 12/100\n",
      "\u001b[1m75/96\u001b[0m \u001b[32m━━━━━━━━━━━━━━━\u001b[0m\u001b[37m━━━━━\u001b[0m \u001b[1m0s\u001b[0m 2ms/step - loss: 0.0019\n",
      "Epoch 12: val_loss did not improve from 0.00259\n",
      "\u001b[1m96/96\u001b[0m \u001b[32m━━━━━━━━━━━━━━━━━━━━\u001b[0m\u001b[37m\u001b[0m \u001b[1m0s\u001b[0m 3ms/step - loss: 0.0024 - val_loss: 0.0027\n",
      "Epoch 13/100\n",
      "\u001b[1m76/96\u001b[0m \u001b[32m━━━━━━━━━━━━━━━\u001b[0m\u001b[37m━━━━━\u001b[0m \u001b[1m0s\u001b[0m 2ms/step - loss: 0.0019\n",
      "Epoch 13: val_loss did not improve from 0.00259\n",
      "\u001b[1m96/96\u001b[0m \u001b[32m━━━━━━━━━━━━━━━━━━━━\u001b[0m\u001b[37m\u001b[0m \u001b[1m0s\u001b[0m 3ms/step - loss: 0.0023 - val_loss: 0.0027\n",
      "Epoch 14/100\n",
      "\u001b[1m75/96\u001b[0m \u001b[32m━━━━━━━━━━━━━━━\u001b[0m\u001b[37m━━━━━\u001b[0m \u001b[1m0s\u001b[0m 2ms/step - loss: 0.0019\n",
      "Epoch 14: val_loss did not improve from 0.00259\n",
      "\u001b[1m96/96\u001b[0m \u001b[32m━━━━━━━━━━━━━━━━━━━━\u001b[0m\u001b[37m\u001b[0m \u001b[1m0s\u001b[0m 3ms/step - loss: 0.0025 - val_loss: 0.0031\n",
      "Epoch 14: early stopping\n"
     ]
    }
   ],
   "source": [
    "history = model.fit(x=X_train,\n",
    "\n",
    "                    y=y_train,\n",
    "\n",
    "                    epochs=100,\n",
    "\n",
    "                    batch_size=20,\n",
    "\n",
    "                    validation_data=(X_test, y_test),\n",
    "\n",
    "                    callbacks=callbacks,\n",
    "\n",
    "                    shuffle=False)"
   ]
  },
  {
   "cell_type": "code",
   "execution_count": 41,
   "id": "2fed641e",
   "metadata": {
    "execution": {
     "iopub.execute_input": "2024-11-12T22:58:33.923578Z",
     "iopub.status.busy": "2024-11-12T22:58:33.923076Z",
     "iopub.status.idle": "2024-11-12T22:58:34.261867Z",
     "shell.execute_reply": "2024-11-12T22:58:34.260655Z"
    },
    "id": "sVDcWtfka5Gg",
    "outputId": "6e6a6ba7-1c4c-4c38-b3fd-1f40f8430552",
    "papermill": {
     "duration": 0.375173,
     "end_time": "2024-11-12T22:58:34.264427",
     "exception": false,
     "start_time": "2024-11-12T22:58:33.889254",
     "status": "completed"
    },
    "tags": []
   },
   "outputs": [
    {
     "data": {
      "image/png": "[encoded data removed]",
      "text/plain": [
       "<Figure size 2000x500 with 1 Axes>"
      ]
     },
     "metadata": {},
     "output_type": "display_data"
    }
   ],
   "source": [
    "plt.figure(figsize=(20,5))\n",
    "\n",
    "plt.subplot(1,2,2)\n",
    "\n",
    "plt.plot(history.history['loss'], label='Training Loss')\n",
    "\n",
    "plt.plot(history.history['val_loss'], label='Validation Loss')\n",
    "\n",
    "plt.legend(loc='upper right')\n",
    "\n",
    "plt.xlabel('Epoch', fontsize=16)\n",
    "\n",
    "plt.ylabel('Loss', fontsize=16)\n",
    "\n",
    "plt.ylim([0,max(plt.ylim())])\n",
    "\n",
    "plt.title('Training and Validation Loss', fontsize=16)\n",
    "\n",
    "plt.show()"
   ]
  },
  {
   "cell_type": "markdown",
   "id": "95c42cd2",
   "metadata": {
    "id": "TxyxPqZhbiUH",
    "papermill": {
     "duration": 0.034085,
     "end_time": "2024-11-12T22:58:34.332113",
     "exception": false,
     "start_time": "2024-11-12T22:58:34.298028",
     "status": "completed"
    },
    "tags": []
   },
   "source": [
    "# Evaluation\n"
   ]
  },
  {
   "cell_type": "code",
   "execution_count": 42,
   "id": "e7f00868",
   "metadata": {
    "execution": {
     "iopub.execute_input": "2024-11-12T22:58:34.401594Z",
     "iopub.status.busy": "2024-11-12T22:58:34.401077Z",
     "iopub.status.idle": "2024-11-12T22:58:34.519061Z",
     "shell.execute_reply": "2024-11-12T22:58:34.517751Z"
    },
    "id": "_nEOsYb_bnGO",
    "outputId": "2a1ed688-52e1-46b0-ba53-8c7355d8e4b2",
    "papermill": {
     "duration": 0.155568,
     "end_time": "2024-11-12T22:58:34.521770",
     "exception": false,
     "start_time": "2024-11-12T22:58:34.366202",
     "status": "completed"
    },
    "tags": []
   },
   "outputs": [
    {
     "name": "stdout",
     "output_type": "stream",
     "text": [
      "\u001b[1m24/24\u001b[0m \u001b[32m━━━━━━━━━━━━━━━━━━━━\u001b[0m\u001b[37m\u001b[0m \u001b[1m0s\u001b[0m 1ms/step - loss: 0.0028 \n",
      "\n",
      "Test loss: 0.3%\n"
     ]
    }
   ],
   "source": [
    "loss = model.evaluate(X_test, y_test, batch_size=20)\n",
    "\n",
    "print(\"\\nTest loss: %.1f%%\" % (100.0 * loss))"
   ]
  },
  {
   "cell_type": "code",
   "execution_count": 43,
   "id": "6165e7a2",
   "metadata": {
    "execution": {
     "iopub.execute_input": "2024-11-12T22:58:34.592253Z",
     "iopub.status.busy": "2024-11-12T22:58:34.591763Z",
     "iopub.status.idle": "2024-11-12T22:58:35.213758Z",
     "shell.execute_reply": "2024-11-12T22:58:35.212443Z"
    },
    "id": "TwHMo_BFbnTM",
    "outputId": "968fb946-3077-41ef-b2b9-8820b6887b3f",
    "papermill": {
     "duration": 0.659956,
     "end_time": "2024-11-12T22:58:35.216592",
     "exception": false,
     "start_time": "2024-11-12T22:58:34.556636",
     "status": "completed"
    },
    "tags": []
   },
   "outputs": [
    {
     "name": "stdout",
     "output_type": "stream",
     "text": [
      "\u001b[1m60/60\u001b[0m \u001b[32m━━━━━━━━━━━━━━━━━━━━\u001b[0m\u001b[37m\u001b[0m \u001b[1m0s\u001b[0m 4ms/step\n",
      "\u001b[1m15/15\u001b[0m \u001b[32m━━━━━━━━━━━━━━━━━━━━\u001b[0m\u001b[37m\u001b[0m \u001b[1m0s\u001b[0m 2ms/step \n"
     ]
    }
   ],
   "source": [
    "train_predict = model.predict(X_train)\n",
    "\n",
    "test_predict = model.predict(X_test)"
   ]
  },
  {
   "cell_type": "code",
   "execution_count": 44,
   "id": "29a74fb6",
   "metadata": {
    "execution": {
     "iopub.execute_input": "2024-11-12T22:58:35.287262Z",
     "iopub.status.busy": "2024-11-12T22:58:35.286795Z",
     "iopub.status.idle": "2024-11-12T22:58:35.293629Z",
     "shell.execute_reply": "2024-11-12T22:58:35.292465Z"
    },
    "id": "eNnwd9uObnK7",
    "papermill": {
     "duration": 0.045473,
     "end_time": "2024-11-12T22:58:35.296093",
     "exception": false,
     "start_time": "2024-11-12T22:58:35.250620",
     "status": "completed"
    },
    "tags": []
   },
   "outputs": [],
   "source": [
    "train_predict = scaler_train.inverse_transform(train_predict)\n",
    "\n",
    "test_predict = scaler_test.inverse_transform(test_predict)"
   ]
  },
  {
   "cell_type": "code",
   "execution_count": 45,
   "id": "28034101",
   "metadata": {
    "execution": {
     "iopub.execute_input": "2024-11-12T22:58:35.366267Z",
     "iopub.status.busy": "2024-11-12T22:58:35.365786Z",
     "iopub.status.idle": "2024-11-12T22:58:35.372215Z",
     "shell.execute_reply": "2024-11-12T22:58:35.371091Z"
    },
    "id": "JXVpybqybw7n",
    "papermill": {
     "duration": 0.04451,
     "end_time": "2024-11-12T22:58:35.374684",
     "exception": false,
     "start_time": "2024-11-12T22:58:35.330174",
     "status": "completed"
    },
    "tags": []
   },
   "outputs": [],
   "source": [
    "y_train = scaler_train.inverse_transform(y_train)\n",
    "\n",
    "y_test = scaler_test.inverse_transform(y_test)"
   ]
  },
  {
   "cell_type": "code",
   "execution_count": 46,
   "id": "774e8181",
   "metadata": {
    "execution": {
     "iopub.execute_input": "2024-11-12T22:58:35.445812Z",
     "iopub.status.busy": "2024-11-12T22:58:35.445345Z",
     "iopub.status.idle": "2024-11-12T22:58:35.451947Z",
     "shell.execute_reply": "2024-11-12T22:58:35.450725Z"
    },
    "id": "WSmEI5H9fTJj",
    "papermill": {
     "duration": 0.044885,
     "end_time": "2024-11-12T22:58:35.454204",
     "exception": false,
     "start_time": "2024-11-12T22:58:35.409319",
     "status": "completed"
    },
    "tags": []
   },
   "outputs": [],
   "source": [
    "# RMSE for Train Set\n",
    "\n",
    "\n",
    "\n",
    "train_rmse = np.sqrt(mean_squared_error(y_train, train_predict))"
   ]
  },
  {
   "cell_type": "code",
   "execution_count": 47,
   "id": "dd2dc5ba",
   "metadata": {
    "execution": {
     "iopub.execute_input": "2024-11-12T22:58:35.526853Z",
     "iopub.status.busy": "2024-11-12T22:58:35.526342Z",
     "iopub.status.idle": "2024-11-12T22:58:35.532753Z",
     "shell.execute_reply": "2024-11-12T22:58:35.531566Z"
    },
    "id": "LMXHaUTlgAix",
    "papermill": {
     "duration": 0.045946,
     "end_time": "2024-11-12T22:58:35.535126",
     "exception": false,
     "start_time": "2024-11-12T22:58:35.489180",
     "status": "completed"
    },
    "tags": []
   },
   "outputs": [],
   "source": [
    "# RMSE for Test Set\n",
    "\n",
    "\n",
    "\n",
    "test_rmse = np.sqrt(mean_squared_error(y_test, test_predict))"
   ]
  },
  {
   "cell_type": "code",
   "execution_count": 48,
   "id": "8d6ff3f6",
   "metadata": {
    "execution": {
     "iopub.execute_input": "2024-11-12T22:58:35.606062Z",
     "iopub.status.busy": "2024-11-12T22:58:35.605613Z",
     "iopub.status.idle": "2024-11-12T22:58:35.611850Z",
     "shell.execute_reply": "2024-11-12T22:58:35.610617Z"
    },
    "id": "HUyQNbLNgAaM",
    "outputId": "4c5831ff-55b4-4ec3-bc64-a72f319d8f71",
    "papermill": {
     "duration": 0.045767,
     "end_time": "2024-11-12T22:58:35.615342",
     "exception": false,
     "start_time": "2024-11-12T22:58:35.569575",
     "status": "completed"
    },
    "tags": []
   },
   "outputs": [
    {
     "name": "stdout",
     "output_type": "stream",
     "text": [
      "Train RMSE: 14.946998596191406\n",
      "Test RMSE: 33.43955612182617\n"
     ]
    }
   ],
   "source": [
    "print(f\"Train RMSE: {train_rmse}\")\n",
    "\n",
    "print(f\"Test RMSE: {test_rmse}\")"
   ]
  },
  {
   "cell_type": "code",
   "execution_count": 49,
   "id": "706de0a6",
   "metadata": {
    "execution": {
     "iopub.execute_input": "2024-11-12T22:58:35.685993Z",
     "iopub.status.busy": "2024-11-12T22:58:35.685461Z",
     "iopub.status.idle": "2024-11-12T22:58:35.700618Z",
     "shell.execute_reply": "2024-11-12T22:58:35.699263Z"
    },
    "id": "XNNbQxDRhDQ0",
    "outputId": "90e4485c-f0cb-491f-c16d-f6bb6c5502d3",
    "papermill": {
     "duration": 0.053729,
     "end_time": "2024-11-12T22:58:35.703191",
     "exception": false,
     "start_time": "2024-11-12T22:58:35.649462",
     "status": "completed"
    },
    "tags": []
   },
   "outputs": [
    {
     "data": {
      "text/html": [
       "<div>\n",
       "<style scoped>\n",
       "    .dataframe tbody tr th:only-of-type {\n",
       "        vertical-align: middle;\n",
       "    }\n",
       "\n",
       "    .dataframe tbody tr th {\n",
       "        vertical-align: top;\n",
       "    }\n",
       "\n",
       "    .dataframe thead th {\n",
       "        text-align: right;\n",
       "    }\n",
       "</style>\n",
       "<table border=\"1\" class=\"dataframe\">\n",
       "  <thead>\n",
       "    <tr style=\"text-align: right;\">\n",
       "      <th></th>\n",
       "      <th>Close</th>\n",
       "      <th>Predicted</th>\n",
       "    </tr>\n",
       "    <tr>\n",
       "      <th>Date</th>\n",
       "      <th></th>\n",
       "      <th></th>\n",
       "    </tr>\n",
       "  </thead>\n",
       "  <tbody>\n",
       "    <tr>\n",
       "      <th>2010-07-28</th>\n",
       "      <td>20.719999</td>\n",
       "      <td>39.976364</td>\n",
       "    </tr>\n",
       "    <tr>\n",
       "      <th>2010-07-29</th>\n",
       "      <td>20.350000</td>\n",
       "      <td>39.976364</td>\n",
       "    </tr>\n",
       "    <tr>\n",
       "      <th>2010-07-30</th>\n",
       "      <td>19.940001</td>\n",
       "      <td>39.976364</td>\n",
       "    </tr>\n",
       "    <tr>\n",
       "      <th>2010-08-02</th>\n",
       "      <td>20.920000</td>\n",
       "      <td>39.976364</td>\n",
       "    </tr>\n",
       "    <tr>\n",
       "      <th>2010-08-03</th>\n",
       "      <td>21.950001</td>\n",
       "      <td>39.976364</td>\n",
       "    </tr>\n",
       "  </tbody>\n",
       "</table>\n",
       "</div>"
      ],
      "text/plain": [
       "                Close  Predicted\n",
       "Date                            \n",
       "2010-07-28  20.719999  39.976364\n",
       "2010-07-29  20.350000  39.976364\n",
       "2010-07-30  19.940001  39.976364\n",
       "2010-08-02  20.920000  39.976364\n",
       "2010-08-03  21.950001  39.976364"
      ]
     },
     "execution_count": 49,
     "metadata": {},
     "output_type": "execute_result"
    }
   ],
   "source": [
    "train_prediction_df = result_df[lookback:pos]\n",
    "\n",
    "train_prediction_df[\"Predicted\"] = train_predict\n",
    "\n",
    "train_prediction_df.head()"
   ]
  },
  {
   "cell_type": "code",
   "execution_count": 50,
   "id": "b1ade347",
   "metadata": {
    "execution": {
     "iopub.execute_input": "2024-11-12T22:58:35.774018Z",
     "iopub.status.busy": "2024-11-12T22:58:35.773560Z",
     "iopub.status.idle": "2024-11-12T22:58:35.787669Z",
     "shell.execute_reply": "2024-11-12T22:58:35.786463Z"
    },
    "id": "GsnDmRcnhawk",
    "outputId": "8de90f56-7881-4d89-e109-781d92ba2582",
    "papermill": {
     "duration": 0.052897,
     "end_time": "2024-11-12T22:58:35.790312",
     "exception": false,
     "start_time": "2024-11-12T22:58:35.737415",
     "status": "completed"
    },
    "tags": []
   },
   "outputs": [
    {
     "data": {
      "text/html": [
       "<div>\n",
       "<style scoped>\n",
       "    .dataframe tbody tr th:only-of-type {\n",
       "        vertical-align: middle;\n",
       "    }\n",
       "\n",
       "    .dataframe tbody tr th {\n",
       "        vertical-align: top;\n",
       "    }\n",
       "\n",
       "    .dataframe thead th {\n",
       "        text-align: right;\n",
       "    }\n",
       "</style>\n",
       "<table border=\"1\" class=\"dataframe\">\n",
       "  <thead>\n",
       "    <tr style=\"text-align: right;\">\n",
       "      <th></th>\n",
       "      <th>Close</th>\n",
       "      <th>Predicted</th>\n",
       "    </tr>\n",
       "    <tr>\n",
       "      <th>Date</th>\n",
       "      <th></th>\n",
       "      <th></th>\n",
       "    </tr>\n",
       "  </thead>\n",
       "  <tbody>\n",
       "    <tr>\n",
       "      <th>2018-04-03</th>\n",
       "      <td>267.529999</td>\n",
       "      <td>326.292542</td>\n",
       "    </tr>\n",
       "    <tr>\n",
       "      <th>2018-04-04</th>\n",
       "      <td>286.940002</td>\n",
       "      <td>323.115997</td>\n",
       "    </tr>\n",
       "    <tr>\n",
       "      <th>2018-04-05</th>\n",
       "      <td>305.720001</td>\n",
       "      <td>323.496246</td>\n",
       "    </tr>\n",
       "    <tr>\n",
       "      <th>2018-04-06</th>\n",
       "      <td>299.299988</td>\n",
       "      <td>323.790863</td>\n",
       "    </tr>\n",
       "    <tr>\n",
       "      <th>2018-04-09</th>\n",
       "      <td>289.660004</td>\n",
       "      <td>323.041199</td>\n",
       "    </tr>\n",
       "  </tbody>\n",
       "</table>\n",
       "</div>"
      ],
      "text/plain": [
       "                 Close   Predicted\n",
       "Date                              \n",
       "2018-04-03  267.529999  326.292542\n",
       "2018-04-04  286.940002  323.115997\n",
       "2018-04-05  305.720001  323.496246\n",
       "2018-04-06  299.299988  323.790863\n",
       "2018-04-09  289.660004  323.041199"
      ]
     },
     "execution_count": 50,
     "metadata": {},
     "output_type": "execute_result"
    }
   ],
   "source": [
    "test_prediction_df = result_df[pos+lookback:]\n",
    "\n",
    "test_prediction_df[\"Predicted\"] = test_predict\n",
    "\n",
    "test_prediction_df.head()"
   ]
  },
  {
   "cell_type": "markdown",
   "id": "ca47898b",
   "metadata": {
    "id": "5ZFv3Gozhm1_",
    "papermill": {
     "duration": 0.035125,
     "end_time": "2024-11-12T22:58:35.860175",
     "exception": false,
     "start_time": "2024-11-12T22:58:35.825050",
     "status": "completed"
    },
    "tags": []
   },
   "source": [
    "# Visualization of Train and Test Predictions"
   ]
  },
  {
   "cell_type": "code",
   "execution_count": 51,
   "id": "73e19dc0",
   "metadata": {
    "execution": {
     "iopub.execute_input": "2024-11-12T22:58:35.932408Z",
     "iopub.status.busy": "2024-11-12T22:58:35.931296Z",
     "iopub.status.idle": "2024-11-12T22:58:36.455192Z",
     "shell.execute_reply": "2024-11-12T22:58:36.453935Z"
    },
    "id": "MrVlnAdfhkAU",
    "outputId": "2ec439cb-366f-4e7d-fe69-68ab08cd942c",
    "papermill": {
     "duration": 0.563371,
     "end_time": "2024-11-12T22:58:36.458024",
     "exception": false,
     "start_time": "2024-11-12T22:58:35.894653",
     "status": "completed"
    },
    "tags": []
   },
   "outputs": [
    {
     "data": {
      "image/png": "[encoded data removed]",
      "text/plain": [
       "<Figure size 1400x500 with 1 Axes>"
      ]
     },
     "metadata": {},
     "output_type": "display_data"
    }
   ],
   "source": [
    "plt.figure(figsize=(14,5))\n",
    "\n",
    "plt.plot(result_df, label = 'Real Values')\n",
    "\n",
    "plt.plot(train_prediction_df[\"Predicted\"], color = 'blue', label = 'Train Predicted')\n",
    "\n",
    "plt.plot(test_prediction_df[\"Predicted\"], color = 'red', label = 'Test Predicted')\n",
    "\n",
    "plt.title('Number of Passengers Prediction')\n",
    "\n",
    "plt.xlabel('Time')\n",
    "\n",
    "plt.ylabel('Stock Values')\n",
    "\n",
    "plt.legend()\n",
    "\n",
    "plt.show()"
   ]
  }
 ],
 "metadata": {
  "colab": {
   "provenance": []
  },
  "kaggle": {
   "accelerator": "none",
   "dataSources": [
    {
     "datasetId": 500872,
     "sourceId": 927894,
     "sourceType": "datasetVersion"
    }
   ],
   "dockerImageVersionId": 30786,
   "isGpuEnabled": false,
   "isInternetEnabled": true,
   "language": "python",
   "sourceType": "notebook"
  },
  "kernelspec": {
   "display_name": "Python 3",
   "name": "python3"
  },
  "language_info": {
   "codemirror_mode": {
    "name": "ipython",
    "version": 3
   },
   "file_extension": ".py",
   "mimetype": "text/x-python",
   "name": "python",
   "nbconvert_exporter": "python",
   "pygments_lexer": "ipython3",
   "version": "3.10.14"
  },
  "papermill": {
   "default_parameters": {},
   "duration": 33.497589,
   "end_time": "2024-11-12T22:58:38.221644",
   "environment_variables": {},
   "exception": null,
   "input_path": "__notebook__.ipynb",
   "output_path": "__notebook__.ipynb",
   "parameters": {},
   "start_time": "2024-11-12T22:58:04.724055",
   "version": "2.6.0"
  }
 },
 "nbformat": 4,
 "nbformat_minor": 5
}
